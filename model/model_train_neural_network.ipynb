{
 "cells": [
  {
   "cell_type": "code",
   "execution_count": 1,
   "metadata": {},
   "outputs": [
    {
     "name": "stderr",
     "output_type": "stream",
     "text": [
      "2022-08-08 20:24:14.028347: I tensorflow/stream_executor/platform/default/dso_loader.cc:49] Successfully opened dynamic library libcudart.so.10.1\n"
     ]
    }
   ],
   "source": [
    "from helpers import (\n",
    "    preprocessing\n",
    ")\n",
    "import pyspark.sql.functions as F\n",
    "from pyspark.sql import SparkSession\n",
    "from pyspark.sql.types import StringType, StructField, StructType, IntegerType, DateType, FloatType, ArrayType, LongType, MapType\n",
    "import warnings\n",
    "import numpy as np \n",
    "import tensorflow as tf\n",
    "from tensorflow.keras import layers\n",
    "warnings.filterwarnings('ignore')"
   ]
  },
  {
   "cell_type": "code",
   "execution_count": 2,
   "metadata": {},
   "outputs": [],
   "source": [
    "# base de dados do twitter ja classificada com sentimentos\n",
    "path = \"/home/daholive/Documents/twitter_ellection_brazil_v2/datasource/raw_kaggle/TweetsWithTheme_v2.csv\""
   ]
  },
  {
   "cell_type": "code",
   "execution_count": 3,
   "metadata": {
    "scrolled": true
   },
   "outputs": [
    {
     "name": "stderr",
     "output_type": "stream",
     "text": [
      "22/08/08 20:24:18 WARN Utils: Your hostname, daholive-Dell-G15-5510 resolves to a loopback address: 127.0.1.1; using 192.168.0.114 instead (on interface wlp0s20f3)\n",
      "22/08/08 20:24:18 WARN Utils: Set SPARK_LOCAL_IP if you need to bind to another address\n",
      "WARNING: An illegal reflective access operation has occurred\n",
      "WARNING: Illegal reflective access by org.apache.spark.unsafe.Platform (file:/home/daholive/anaconda3/envs/twiiter_tensor/lib/python3.8/site-packages/pyspark/jars/spark-unsafe_2.12-3.2.1.jar) to constructor java.nio.DirectByteBuffer(long,int)\n",
      "WARNING: Please consider reporting this to the maintainers of org.apache.spark.unsafe.Platform\n",
      "WARNING: Use --illegal-access=warn to enable warnings of further illegal reflective access operations\n",
      "WARNING: All illegal access operations will be denied in a future release\n",
      "Ivy Default Cache set to: /home/daholive/.ivy2/cache\n",
      "The jars for the packages stored in: /home/daholive/.ivy2/jars\n",
      "io.delta#delta-core_2.12 added as a dependency\n",
      ":: resolving dependencies :: org.apache.spark#spark-submit-parent-2d97b2dd-45d6-4c2a-9e9b-ddf32f3ba6cd;1.0\n",
      "\tconfs: [default]\n"
     ]
    },
    {
     "name": "stdout",
     "output_type": "stream",
     "text": [
      ":: loading settings :: url = jar:file:/home/daholive/anaconda3/envs/twiiter_tensor/lib/python3.8/site-packages/pyspark/jars/ivy-2.5.0.jar!/org/apache/ivy/core/settings/ivysettings.xml\n"
     ]
    },
    {
     "name": "stderr",
     "output_type": "stream",
     "text": [
      "\tfound io.delta#delta-core_2.12;1.1.0 in central\n",
      "\tfound org.antlr#antlr4-runtime;4.8 in central\n",
      "\tfound org.codehaus.jackson#jackson-core-asl;1.9.13 in central\n",
      ":: resolution report :: resolve 126ms :: artifacts dl 6ms\n",
      "\t:: modules in use:\n",
      "\tio.delta#delta-core_2.12;1.1.0 from central in [default]\n",
      "\torg.antlr#antlr4-runtime;4.8 from central in [default]\n",
      "\torg.codehaus.jackson#jackson-core-asl;1.9.13 from central in [default]\n",
      "\t---------------------------------------------------------------------\n",
      "\t|                  |            modules            ||   artifacts   |\n",
      "\t|       conf       | number| search|dwnlded|evicted|| number|dwnlded|\n",
      "\t---------------------------------------------------------------------\n",
      "\t|      default     |   3   |   0   |   0   |   0   ||   3   |   0   |\n",
      "\t---------------------------------------------------------------------\n",
      ":: retrieving :: org.apache.spark#spark-submit-parent-2d97b2dd-45d6-4c2a-9e9b-ddf32f3ba6cd\n",
      "\tconfs: [default]\n",
      "\t0 artifacts copied, 3 already retrieved (0kB/4ms)\n",
      "22/08/08 20:24:19 WARN NativeCodeLoader: Unable to load native-hadoop library for your platform... using builtin-java classes where applicable\n",
      "Using Spark's default log4j profile: org/apache/spark/log4j-defaults.properties\n",
      "Setting default log level to \"WARN\".\n",
      "To adjust logging level use sc.setLogLevel(newLevel). For SparkR, use setLogLevel(newLevel).\n"
     ]
    }
   ],
   "source": [
    "# instancia spark\n",
    "spark = SparkSession.builder \\\n",
    "    .master(\"local[*]\") \\\n",
    "    .config(\"spark.jars.packages\", \"io.delta:delta-core_2.12:1.1.0\") \\\n",
    "    .config(\"spark.sql.extensions\", \"io.delta.sql.DeltaSparkSessionExtension\") \\\n",
    "    .config(\"spark.sql.catalog.spark_catalog\", \"org.apache.spark.sql.delta.catalog.DeltaCatalog\") \\\n",
    "    .config(\"spark.executor.memory\",\"4G\") \\\n",
    "    .config(\"spark.driver.memory\",\"4G\") \\\n",
    "    .config(\"spark.executor.cores\",\"12\") \\\n",
    "    .config(\"spark.sql.execution.arrow.pyspark.enabled\",\"true\") \\\n",
    "    .getOrCreate()"
   ]
  },
  {
   "cell_type": "code",
   "execution_count": 4,
   "metadata": {},
   "outputs": [],
   "source": [
    "# dataframe twitter com sentimentos classificados\n",
    "dataframe = spark.read.options(delimiter=';',header='True').csv(path)"
   ]
  },
  {
   "cell_type": "code",
   "execution_count": 5,
   "metadata": {},
   "outputs": [],
   "source": [
    "# label adjust\n",
    "dataframe = dataframe.withColumn(\"sentiment_map\", \n",
    "    F.when(F.col(\"sentiment\")==\"Negativo\", 0).otherwise(1)\n",
    ")"
   ]
  },
  {
   "cell_type": "code",
   "execution_count": 6,
   "metadata": {},
   "outputs": [],
   "source": [
    "# dataframe features\n",
    "rdd2 = dataframe.rdd.map(lambda x: (preprocessing(x.tweet_text),len(preprocessing(x.tweet_text).split()),x.sentiment_map))\n",
    "\n",
    "schema = StructType([       \n",
    "    StructField('features', StringType(), True),\n",
    "    StructField('tokens_count', IntegerType(), True),\n",
    "    StructField('label', IntegerType(), True),\n",
    "])\n",
    "\n",
    "df_features = spark.createDataFrame(rdd2, schema = schema)\n",
    "\n",
    "count_map = F.udf( \n",
    "    lambda x: len(x.split()),\n",
    "    IntegerType()     \n",
    ")\n",
    "\n",
    "df_features = df_features \\\n",
    "    .filter(F.col(\"features\")!=\"-\") \\\n",
    "    .filter( count_map(F.col(\"features\"))<30 ) \\\n",
    "    .dropDuplicates(subset = ['features'])"
   ]
  },
  {
   "cell_type": "code",
   "execution_count": 7,
   "metadata": {},
   "outputs": [],
   "source": [
    "train = df_features.sampleBy(\"label\", fractions={0: 1, 1: 0.87}, seed=10)"
   ]
  },
  {
   "cell_type": "code",
   "execution_count": 8,
   "metadata": {},
   "outputs": [
    {
     "name": "stderr",
     "output_type": "stream",
     "text": [
      "                                                                                \r"
     ]
    }
   ],
   "source": [
    "# features and labels\n",
    "features = train.select('features').rdd.flatMap(lambda x: x).collect()\n",
    "labels = np.array(train.select('label').rdd.flatMap(lambda x: x).collect())"
   ]
  },
  {
   "cell_type": "code",
   "execution_count": 9,
   "metadata": {},
   "outputs": [],
   "source": [
    "# tensorflow - tokenizacao\n",
    "import tensorflow_datasets as tfds\n",
    "import random\n",
    "\n",
    "tokenizer = tfds.deprecated.text.SubwordTextEncoder.build_from_corpus(features, target_vocab_size=2**16)"
   ]
  },
  {
   "cell_type": "code",
   "execution_count": 14,
   "metadata": {},
   "outputs": [
    {
     "data": {
      "text/plain": [
       "28354"
      ]
     },
     "execution_count": 14,
     "metadata": {},
     "output_type": "execute_result"
    }
   ],
   "source": [
    "# tamanho do vocabulario\n",
    "tokenizer.vocab_size"
   ]
  },
  {
   "cell_type": "code",
   "execution_count": 12,
   "metadata": {},
   "outputs": [
    {
     "data": {
      "text/plain": [
       "[28174, 28215, 81, 28293, 28267, 28130, 2431, 660]"
      ]
     },
     "execution_count": 12,
     "metadata": {},
     "output_type": "execute_result"
    }
   ],
   "source": [
    "# teste das palavras tokenizadas\n",
    "ids = tokenizer.encode('Lula é o melhor')\n",
    "ids"
   ]
  },
  {
   "cell_type": "code",
   "execution_count": 15,
   "metadata": {},
   "outputs": [],
   "source": [
    "# tensorflow - padding\n",
    "data_inputs = [tokenizer.encode(sentence) for sentence in features]\n",
    "\n",
    "max_len = max([len(sentence) for sentence in data_inputs])\n",
    "\n",
    "data_inputs = tf.keras.preprocessing.sequence.pad_sequences(data_inputs,\n",
    "                                                            value = 0,\n",
    "                                                            padding = 'post',\n",
    "                                                            maxlen=max_len)"
   ]
  },
  {
   "cell_type": "code",
   "execution_count": 11,
   "metadata": {},
   "outputs": [],
   "source": [
    "# data split\n",
    "from sklearn.model_selection import train_test_split\n",
    "train_inputs, test_inputs, train_labels, test_labels = train_test_split(data_inputs,\n",
    "                                                                        labels,\n",
    "                                                                        test_size=0.3,\n",
    "                                                                        stratify = labels)"
   ]
  },
  {
   "cell_type": "code",
   "execution_count": 12,
   "metadata": {},
   "outputs": [],
   "source": [
    "# model build\n",
    "class DCNN(tf.keras.Model): \n",
    "\n",
    "  def __init__(self,\n",
    "               vocab_size,\n",
    "               emb_dim=128,\n",
    "               nb_filters=50,\n",
    "               ffn_units=512, \n",
    "               nb_classes=2,\n",
    "               dropout_rate=0.1,\n",
    "               training=True,\n",
    "               name=\"dcnn\"):\n",
    "      \n",
    "    super(DCNN, self).__init__(name=name)\n",
    "    \n",
    "    self.embedding = layers.Embedding(vocab_size, emb_dim)\n",
    "\n",
    "    self.bigram = layers.Conv1D(filters=nb_filters, kernel_size=2, padding='same', activation='relu')\n",
    "    self.trigram = layers.Conv1D(filters=nb_filters, kernel_size=3, padding='same', activation='relu')\n",
    "    self.fourgram = layers.Conv1D(filters=nb_filters, kernel_size=4, padding='same', activation='relu')\n",
    "\n",
    "    self.pool = layers.GlobalMaxPool1D()\n",
    "    self.dense_1 = layers.Dense(units = ffn_units, activation = 'relu')\n",
    "    self.dropout = layers.Dropout(rate = dropout_rate)\n",
    "    \n",
    "    if nb_classes == 2:\n",
    "      self.last_dense = layers.Dense(units = 1, activation = 'sigmoid')\n",
    "    else:\n",
    "      self.last_dense = layers.Dense(units = nb_classes, activation = 'softmax')\n",
    "\n",
    "  def call(self, inputs, training):\n",
    "    x = self.embedding(inputs) \n",
    "    x_1 = self.bigram(x) \n",
    "    x_1 = self.pool(x_1) \n",
    "    x_2 = self.trigram(x) \n",
    "    x_2 = self.pool(x_2) \n",
    "    x_3 = self.fourgram(x) \n",
    "    x_3 = self.pool(x_3) \n",
    "\n",
    "    merged = tf.concat([x_1, x_2, x_3], axis = -1) # (batch_size, 3 * nb_filters)\n",
    "\n",
    "    merged = self.dense_1(merged)\n",
    "    merged = self.dropout(merged, training)\n",
    "    output = self.last_dense(merged)\n",
    "\n",
    "    return output"
   ]
  },
  {
   "cell_type": "code",
   "execution_count": 13,
   "metadata": {},
   "outputs": [],
   "source": [
    "# variables init\n",
    "vocab_size = tokenizer.vocab_size\n",
    "emb_dim = 200 \n",
    "nb_filters = 100 \n",
    "ffn_units = 256 # 256\n",
    "batch_size = 64 \n",
    "nb_classes = len(set(train_labels)) \n",
    "dropout_rate = 0.2\n",
    "nb_epochs = 10"
   ]
  },
  {
   "cell_type": "code",
   "execution_count": 14,
   "metadata": {
    "scrolled": true
   },
   "outputs": [
    {
     "name": "stderr",
     "output_type": "stream",
     "text": [
      "2022-08-07 12:13:51.169230: I tensorflow/compiler/jit/xla_cpu_device.cc:41] Not creating XLA devices, tf_xla_enable_xla_devices not set\n",
      "2022-08-07 12:13:51.174094: I tensorflow/stream_executor/platform/default/dso_loader.cc:49] Successfully opened dynamic library libcuda.so.1\n",
      "2022-08-07 12:13:51.214553: I tensorflow/stream_executor/cuda/cuda_gpu_executor.cc:941] successful NUMA node read from SysFS had negative value (-1), but there must be at least one NUMA node, so returning NUMA node zero\n",
      "2022-08-07 12:13:51.214744: I tensorflow/core/common_runtime/gpu/gpu_device.cc:1720] Found device 0 with properties: \n",
      "pciBusID: 0000:01:00.0 name: NVIDIA GeForce GTX 1650 computeCapability: 7.5\n",
      "coreClock: 1.68GHz coreCount: 14 deviceMemorySize: 3.82GiB deviceMemoryBandwidth: 178.84GiB/s\n",
      "2022-08-07 12:13:51.214774: I tensorflow/stream_executor/platform/default/dso_loader.cc:49] Successfully opened dynamic library libcudart.so.10.1\n",
      "2022-08-07 12:13:51.238657: I tensorflow/stream_executor/platform/default/dso_loader.cc:49] Successfully opened dynamic library libcublas.so.10\n",
      "2022-08-07 12:13:51.238743: I tensorflow/stream_executor/platform/default/dso_loader.cc:49] Successfully opened dynamic library libcublasLt.so.10\n",
      "2022-08-07 12:13:51.255269: I tensorflow/stream_executor/platform/default/dso_loader.cc:49] Successfully opened dynamic library libcufft.so.10\n",
      "2022-08-07 12:13:51.258676: I tensorflow/stream_executor/platform/default/dso_loader.cc:49] Successfully opened dynamic library libcurand.so.10\n",
      "2022-08-07 12:13:51.282932: I tensorflow/stream_executor/platform/default/dso_loader.cc:49] Successfully opened dynamic library libcusolver.so.10\n",
      "2022-08-07 12:13:51.286947: I tensorflow/stream_executor/platform/default/dso_loader.cc:49] Successfully opened dynamic library libcusparse.so.10\n",
      "2022-08-07 12:13:51.330292: I tensorflow/stream_executor/platform/default/dso_loader.cc:49] Successfully opened dynamic library libcudnn.so.7\n",
      "2022-08-07 12:13:51.330458: I tensorflow/stream_executor/cuda/cuda_gpu_executor.cc:941] successful NUMA node read from SysFS had negative value (-1), but there must be at least one NUMA node, so returning NUMA node zero\n",
      "2022-08-07 12:13:51.330709: I tensorflow/stream_executor/cuda/cuda_gpu_executor.cc:941] successful NUMA node read from SysFS had negative value (-1), but there must be at least one NUMA node, so returning NUMA node zero\n",
      "2022-08-07 12:13:51.330806: I tensorflow/core/common_runtime/gpu/gpu_device.cc:1862] Adding visible gpu devices: 0\n"
     ]
    }
   ],
   "source": [
    "# tensorflow parameters for local GPU\n",
    "physical_devices = tf.config.experimental.list_physical_devices('GPU')\n",
    "assert len(physical_devices) > 0, \"Not enough GPU hardware devices available\"\n",
    "config = tf.config.experimental.set_memory_growth(physical_devices[0], True)"
   ]
  },
  {
   "cell_type": "code",
   "execution_count": 15,
   "metadata": {
    "scrolled": true
   },
   "outputs": [
    {
     "name": "stderr",
     "output_type": "stream",
     "text": [
      "2022-08-07 12:13:55.236015: I tensorflow/core/platform/cpu_feature_guard.cc:142] This TensorFlow binary is optimized with oneAPI Deep Neural Network Library (oneDNN) to use the following CPU instructions in performance-critical operations:  SSE4.1 SSE4.2 AVX AVX2 FMA\n",
      "To enable them in other operations, rebuild TensorFlow with the appropriate compiler flags.\n",
      "2022-08-07 12:13:55.236808: I tensorflow/stream_executor/cuda/cuda_gpu_executor.cc:941] successful NUMA node read from SysFS had negative value (-1), but there must be at least one NUMA node, so returning NUMA node zero\n",
      "2022-08-07 12:13:55.237061: I tensorflow/core/common_runtime/gpu/gpu_device.cc:1720] Found device 0 with properties: \n",
      "pciBusID: 0000:01:00.0 name: NVIDIA GeForce GTX 1650 computeCapability: 7.5\n",
      "coreClock: 1.68GHz coreCount: 14 deviceMemorySize: 3.82GiB deviceMemoryBandwidth: 178.84GiB/s\n",
      "2022-08-07 12:13:55.237123: I tensorflow/stream_executor/platform/default/dso_loader.cc:49] Successfully opened dynamic library libcudart.so.10.1\n",
      "2022-08-07 12:13:55.237158: I tensorflow/stream_executor/platform/default/dso_loader.cc:49] Successfully opened dynamic library libcublas.so.10\n",
      "2022-08-07 12:13:55.237180: I tensorflow/stream_executor/platform/default/dso_loader.cc:49] Successfully opened dynamic library libcublasLt.so.10\n",
      "2022-08-07 12:13:55.237199: I tensorflow/stream_executor/platform/default/dso_loader.cc:49] Successfully opened dynamic library libcufft.so.10\n",
      "2022-08-07 12:13:55.237219: I tensorflow/stream_executor/platform/default/dso_loader.cc:49] Successfully opened dynamic library libcurand.so.10\n",
      "2022-08-07 12:13:55.237239: I tensorflow/stream_executor/platform/default/dso_loader.cc:49] Successfully opened dynamic library libcusolver.so.10\n",
      "2022-08-07 12:13:55.237259: I tensorflow/stream_executor/platform/default/dso_loader.cc:49] Successfully opened dynamic library libcusparse.so.10\n",
      "2022-08-07 12:13:55.237290: I tensorflow/stream_executor/platform/default/dso_loader.cc:49] Successfully opened dynamic library libcudnn.so.7\n",
      "2022-08-07 12:13:55.237385: I tensorflow/stream_executor/cuda/cuda_gpu_executor.cc:941] successful NUMA node read from SysFS had negative value (-1), but there must be at least one NUMA node, so returning NUMA node zero\n",
      "2022-08-07 12:13:55.237592: I tensorflow/stream_executor/cuda/cuda_gpu_executor.cc:941] successful NUMA node read from SysFS had negative value (-1), but there must be at least one NUMA node, so returning NUMA node zero\n",
      "2022-08-07 12:13:55.237732: I tensorflow/core/common_runtime/gpu/gpu_device.cc:1862] Adding visible gpu devices: 0\n",
      "2022-08-07 12:13:55.238129: I tensorflow/stream_executor/platform/default/dso_loader.cc:49] Successfully opened dynamic library libcudart.so.10.1\n",
      "2022-08-07 12:13:56.038258: I tensorflow/core/common_runtime/gpu/gpu_device.cc:1261] Device interconnect StreamExecutor with strength 1 edge matrix:\n",
      "2022-08-07 12:13:56.038287: I tensorflow/core/common_runtime/gpu/gpu_device.cc:1267]      0 \n",
      "2022-08-07 12:13:56.038292: I tensorflow/core/common_runtime/gpu/gpu_device.cc:1280] 0:   N \n",
      "2022-08-07 12:13:56.038861: I tensorflow/stream_executor/cuda/cuda_gpu_executor.cc:941] successful NUMA node read from SysFS had negative value (-1), but there must be at least one NUMA node, so returning NUMA node zero\n",
      "2022-08-07 12:13:56.039064: I tensorflow/stream_executor/cuda/cuda_gpu_executor.cc:941] successful NUMA node read from SysFS had negative value (-1), but there must be at least one NUMA node, so returning NUMA node zero\n",
      "2022-08-07 12:13:56.039184: I tensorflow/stream_executor/cuda/cuda_gpu_executor.cc:941] successful NUMA node read from SysFS had negative value (-1), but there must be at least one NUMA node, so returning NUMA node zero\n",
      "2022-08-07 12:13:56.039279: I tensorflow/core/common_runtime/gpu/gpu_device.cc:1406] Created TensorFlow device (/job:localhost/replica:0/task:0/device:GPU:0 with 3346 MB memory) -> physical GPU (device: 0, name: NVIDIA GeForce GTX 1650, pci bus id: 0000:01:00.0, compute capability: 7.5)\n",
      "2022-08-07 12:13:56.040544: I tensorflow/compiler/jit/xla_gpu_device.cc:99] Not creating XLA devices, tf_xla_enable_xla_devices not set\n"
     ]
    }
   ],
   "source": [
    "# model instance\n",
    "Dcnn = DCNN(\n",
    "    vocab_size=vocab_size, \n",
    "    emb_dim=emb_dim, \n",
    "    nb_filters=nb_filters,\n",
    "    ffn_units=ffn_units, \n",
    "    nb_classes=nb_classes, \n",
    "    dropout_rate=dropout_rate\n",
    ")"
   ]
  },
  {
   "cell_type": "code",
   "execution_count": 16,
   "metadata": {},
   "outputs": [],
   "source": [
    "# model compile\n",
    "Dcnn.compile(\n",
    "    loss='binary_crossentropy', \n",
    "    optimizer='adam', \n",
    "    metrics=['accuracy']\n",
    ")"
   ]
  },
  {
   "cell_type": "code",
   "execution_count": 17,
   "metadata": {},
   "outputs": [],
   "source": [
    "# model checkpoint\n",
    "checkpoint_path = \"/home/daholive/Documents/twitter_ellection_brazil_v2/model/checkpoints\"\n",
    "ckpt = tf.train.Checkpoint(Dcnn=Dcnn) # passando o objeto que iremos salvar\n",
    "ckpt_manager = tf.train.CheckpointManager(ckpt, checkpoint_path, max_to_keep=5)\n",
    "if ckpt_manager.latest_checkpoint: # verifica se existe um ultimo checkpoint salvo\n",
    "    ckpt.restore(ckpt_manager.latest_checkpoint) # restaura o ultimo checkpoint salvo\n",
    "    print('Latest checkpoint restored')"
   ]
  },
  {
   "cell_type": "code",
   "execution_count": 18,
   "metadata": {},
   "outputs": [
    {
     "name": "stderr",
     "output_type": "stream",
     "text": [
      "2022-08-07 12:14:14.113637: I tensorflow/compiler/mlir/mlir_graph_optimization_pass.cc:116] None of the MLIR optimization passes are enabled (registered 2)\n",
      "2022-08-07 12:14:14.133415: I tensorflow/core/platform/profile_utils/cpu_utils.cc:112] CPU Frequency: 2499950000 Hz\n"
     ]
    },
    {
     "name": "stdout",
     "output_type": "stream",
     "text": [
      "Epoch 1/10\n"
     ]
    },
    {
     "name": "stderr",
     "output_type": "stream",
     "text": [
      "2022-08-07 12:14:14.878326: I tensorflow/stream_executor/platform/default/dso_loader.cc:49] Successfully opened dynamic library libcublas.so.10\n",
      "2022-08-07 12:14:15.173079: I tensorflow/stream_executor/platform/default/dso_loader.cc:49] Successfully opened dynamic library libcudnn.so.7\n"
     ]
    },
    {
     "name": "stdout",
     "output_type": "stream",
     "text": [
      "539/539 [==============================] - 26s 43ms/step - loss: 0.5527 - accuracy: 0.6888 - val_loss: 0.4372 - val_accuracy: 0.7890\n",
      "Epoch 2/10\n",
      "539/539 [==============================] - 22s 42ms/step - loss: 0.3331 - accuracy: 0.8545 - val_loss: 0.4520 - val_accuracy: 0.7888\n",
      "Epoch 3/10\n",
      "539/539 [==============================] - 23s 42ms/step - loss: 0.1503 - accuracy: 0.9437 - val_loss: 0.5897 - val_accuracy: 0.7695\n",
      "Epoch 4/10\n",
      "539/539 [==============================] - 23s 42ms/step - loss: 0.0539 - accuracy: 0.9832 - val_loss: 0.8654 - val_accuracy: 0.7681\n",
      "Epoch 5/10\n",
      "539/539 [==============================] - 22s 41ms/step - loss: 0.0231 - accuracy: 0.9926 - val_loss: 0.9753 - val_accuracy: 0.7585\n",
      "Epoch 6/10\n",
      "539/539 [==============================] - 22s 41ms/step - loss: 0.0131 - accuracy: 0.9952 - val_loss: 1.2968 - val_accuracy: 0.7580\n",
      "Epoch 7/10\n",
      "539/539 [==============================] - 19s 36ms/step - loss: 0.0185 - accuracy: 0.9936 - val_loss: 1.4201 - val_accuracy: 0.7446\n",
      "Epoch 8/10\n",
      "539/539 [==============================] - 20s 36ms/step - loss: 0.0176 - accuracy: 0.9934 - val_loss: 1.3988 - val_accuracy: 0.7593\n",
      "Epoch 9/10\n",
      "539/539 [==============================] - 20s 36ms/step - loss: 0.0157 - accuracy: 0.9953 - val_loss: 1.3082 - val_accuracy: 0.7504\n",
      "Epoch 10/10\n",
      "539/539 [==============================] - 20s 37ms/step - loss: 0.0077 - accuracy: 0.9972 - val_loss: 1.5073 - val_accuracy: 0.7554\n"
     ]
    },
    {
     "data": {
      "text/plain": [
       "'/home/daholive/Documents/twitter_ellection_brazil_v2/model/checkpoints/ckpt-1'"
      ]
     },
     "execution_count": 18,
     "metadata": {},
     "output_type": "execute_result"
    }
   ],
   "source": [
    "# model fit\n",
    "history = Dcnn.fit(\n",
    "    train_inputs, \n",
    "    train_labels,\n",
    "    batch_size = batch_size,\n",
    "    epochs = nb_epochs,\n",
    "    verbose = 1,\n",
    "    validation_split = 0.10\n",
    ")\n",
    "ckpt_manager.save()"
   ]
  },
  {
   "cell_type": "code",
   "execution_count": 19,
   "metadata": {},
   "outputs": [
    {
     "name": "stdout",
     "output_type": "stream",
     "text": [
      "257/257 [==============================] - 1s 2ms/step - loss: 1.6800 - accuracy: 0.7391\n"
     ]
    }
   ],
   "source": [
    "# model available\n",
    "results = Dcnn.evaluate(\n",
    "    test_inputs, \n",
    "    test_labels, \n",
    "    batch_size=batch_size\n",
    ")\n",
    "\n",
    "y_pred_test = Dcnn.predict(test_inputs)\n",
    "y_pred_test = (y_pred_test > 0.5)"
   ]
  },
  {
   "cell_type": "code",
   "execution_count": 20,
   "metadata": {},
   "outputs": [
    {
     "data": {
      "text/plain": [
       "array([[6197, 2037],\n",
       "       [2246, 5934]])"
      ]
     },
     "execution_count": 20,
     "metadata": {},
     "output_type": "execute_result"
    }
   ],
   "source": [
    "# confusion matrix\n",
    "from sklearn.metrics import confusion_matrix\n",
    "import seaborn as sns\n",
    "cm = confusion_matrix(test_labels, y_pred_test)\n",
    "cm"
   ]
  },
  {
   "cell_type": "code",
   "execution_count": 21,
   "metadata": {},
   "outputs": [
    {
     "data": {
      "text/plain": [
       "<AxesSubplot:>"
      ]
     },
     "execution_count": 21,
     "metadata": {},
     "output_type": "execute_result"
    },
    {
     "data": {
      "image/png": "[encoded data removed]",
      "text/plain": [
       "<Figure size 432x288 with 2 Axes>"
      ]
     },
     "metadata": {
      "needs_background": "light"
     },
     "output_type": "display_data"
    }
   ],
   "source": [
    "# confusion matrix heatmap\n",
    "sns.heatmap(cm, annot=True)"
   ]
  },
  {
   "cell_type": "code",
   "execution_count": 22,
   "metadata": {},
   "outputs": [
    {
     "data": {
      "text/plain": [
       "dict_keys(['loss', 'accuracy', 'val_loss', 'val_accuracy'])"
      ]
     },
     "execution_count": 22,
     "metadata": {},
     "output_type": "execute_result"
    }
   ],
   "source": [
    "# execution history\n",
    "history.history.keys()"
   ]
  },
  {
   "cell_type": "code",
   "execution_count": 23,
   "metadata": {},
   "outputs": [
    {
     "data": {
      "text/plain": [
       "<matplotlib.legend.Legend at 0x7f76f82ccbb0>"
      ]
     },
     "execution_count": 23,
     "metadata": {},
     "output_type": "execute_result"
    },
    {
     "data": {
      "image/png": "[encoded data removed]",
      "text/plain": [
       "<Figure size 432x288 with 1 Axes>"
      ]
     },
     "metadata": {
      "needs_background": "light"
     },
     "output_type": "display_data"
    }
   ],
   "source": [
    "# chart - training and validation data versus loss progress\n",
    "import matplotlib.pyplot as plt\n",
    "\n",
    "plt.plot(history.history['loss'])\n",
    "plt.plot(history.history['val_loss'])\n",
    "plt.title('Model loss progress during training and validation')\n",
    "plt.xlabel('Epoch')\n",
    "plt.ylabel('Losses')\n",
    "plt.legend(['Training loss', 'Validation loss'])"
   ]
  },
  {
   "cell_type": "code",
   "execution_count": 24,
   "metadata": {},
   "outputs": [
    {
     "data": {
      "text/plain": [
       "<matplotlib.legend.Legend at 0x7f76f82ccf10>"
      ]
     },
     "execution_count": 24,
     "metadata": {},
     "output_type": "execute_result"
    },
    {
     "data": {
      "image/png": "[encoded data removed]",
      "text/plain": [
       "<Figure size 432x288 with 1 Axes>"
      ]
     },
     "metadata": {
      "needs_background": "light"
     },
     "output_type": "display_data"
    }
   ],
   "source": [
    "# chart - training and validation data versus accuracy progress\n",
    "plt.plot(history.history['accuracy'])\n",
    "plt.plot(history.history['val_accuracy'])\n",
    "plt.title('Model accuracy progress during training and validation')\n",
    "plt.xlabel('Epoch')\n",
    "plt.ylabel('Accuracy')\n",
    "plt.legend(['Training accuracy', 'Validation accuracy'])"
   ]
  },
  {
   "cell_type": "code",
   "execution_count": 25,
   "metadata": {},
   "outputs": [
    {
     "data": {
      "text/plain": [
       "array([[0.9999517]], dtype=float32)"
      ]
     },
     "execution_count": 25,
     "metadata": {},
     "output_type": "execute_result"
    }
   ],
   "source": [
    "# predict - 1\n",
    "text = 'Lula é o melhor presidente'\n",
    "text = tokenizer.encode(text) # texto tokenizado\n",
    "\n",
    "Dcnn(np.array([text]), training=False).numpy()"
   ]
  },
  {
   "cell_type": "code",
   "execution_count": 26,
   "metadata": {},
   "outputs": [
    {
     "data": {
      "text/plain": [
       "array([[0.04521037]], dtype=float32)"
      ]
     },
     "execution_count": 26,
     "metadata": {},
     "output_type": "execute_result"
    }
   ],
   "source": [
    "# predict - 2\n",
    "text = 'Bolsonaro não é de nada'\n",
    "text = tokenizer.encode(text) # texto tokenizado\n",
    "\n",
    "Dcnn(np.array([text]), training=False).numpy()"
   ]
  },
  {
   "cell_type": "markdown",
   "metadata": {},
   "source": [
    "## TWIITER - DADOS RECENTES - APLICAÇÃO REDES NEURAIS CONVOLUCIONAIS"
   ]
  },
  {
   "cell_type": "code",
   "execution_count": 27,
   "metadata": {},
   "outputs": [],
   "source": [
    "import os\n",
    "path = os.path.abspath(os.path.join('..', ''))\n"
   ]
  },
  {
   "cell_type": "code",
   "execution_count": 34,
   "metadata": {},
   "outputs": [],
   "source": [
    "df_tweets = spark.read.parquet(path+\"/datasource/trusted/tweets_preprocessing\").toPandas()"
   ]
  },
  {
   "cell_type": "code",
   "execution_count": 35,
   "metadata": {},
   "outputs": [],
   "source": [
    "df_tweets['tokenizers'] = [np.array([tokenizer.encode(token)]) for token in df_tweets['text_clean']]"
   ]
  },
  {
   "cell_type": "code",
   "execution_count": 37,
   "metadata": {},
   "outputs": [
    {
     "name": "stderr",
     "output_type": "stream",
     "text": [
      "2022-08-07 12:29:16.994910: W tensorflow/core/common_runtime/bfc_allocator.cc:314] Garbage collection: deallocate free memory regions (i.e., allocations) so that we can re-allocate a larger region to avoid OOM due to memory fragmentation. If you see this message frequently, you are running near the threshold of the available device memory and re-allocation may incur great performance overhead. You may try smaller batch sizes to observe the performance impact. Set TF_ENABLE_GPU_GARBAGE_COLLECTION=false if you'd like to disable this feature.\n",
      "2022-08-07 12:29:17.051306: I tensorflow/stream_executor/cuda/cuda_driver.cc:789] failed to allocate 3.23G (3468361728 bytes) from device: CUDA_ERROR_OUT_OF_MEMORY: out of memory\n"
     ]
    }
   ],
   "source": [
    "df_tweets['sentiment_tax'] = [Dcnn(token, training=False)[0][0] for token in df_tweets['tokenizers']]"
   ]
  },
  {
   "cell_type": "code",
   "execution_count": 39,
   "metadata": {},
   "outputs": [],
   "source": [
    "df_tweets['sentiment'] = [1 if float(tensors) > 0.5 else 0 for tensors in df_tweets['sentiment_tax']]"
   ]
  },
  {
   "cell_type": "code",
   "execution_count": 40,
   "metadata": {},
   "outputs": [
    {
     "data": {
      "text/plain": [
       "1    70703\n",
       "0    19262\n",
       "Name: sentiment, dtype: int64"
      ]
     },
     "execution_count": 40,
     "metadata": {},
     "output_type": "execute_result"
    }
   ],
   "source": [
    "df_tweets['sentiment'].value_counts()"
   ]
  },
  {
   "cell_type": "code",
   "execution_count": 41,
   "metadata": {},
   "outputs": [],
   "source": [
    "df_tweets.to_pickle('/home/daholive/Documents/twitter_ellection_brazil_v2/datasource/refined/tweets_redes_neurais_convolucionais/tweets_redes_neurais_convolucionais.pkl')"
   ]
  },
  {
   "cell_type": "markdown",
   "metadata": {},
   "source": [
    "## ANALISE SERIE TEMPORAL"
   ]
  },
  {
   "cell_type": "code",
   "execution_count": 3,
   "metadata": {},
   "outputs": [
    {
     "name": "stderr",
     "output_type": "stream",
     "text": [
      "2022-08-07 17:16:07.685418: I tensorflow/stream_executor/platform/default/dso_loader.cc:49] Successfully opened dynamic library libcudart.so.10.1\n",
      "2022-08-07 17:16:08.632798: I tensorflow/compiler/jit/xla_cpu_device.cc:41] Not creating XLA devices, tf_xla_enable_xla_devices not set\n",
      "2022-08-07 17:16:08.633358: I tensorflow/stream_executor/platform/default/dso_loader.cc:49] Successfully opened dynamic library libcuda.so.1\n",
      "2022-08-07 17:16:08.666237: I tensorflow/stream_executor/cuda/cuda_gpu_executor.cc:941] successful NUMA node read from SysFS had negative value (-1), but there must be at least one NUMA node, so returning NUMA node zero\n",
      "2022-08-07 17:16:08.666362: I tensorflow/core/common_runtime/gpu/gpu_device.cc:1720] Found device 0 with properties: \n",
      "pciBusID: 0000:01:00.0 name: NVIDIA GeForce GTX 1650 computeCapability: 7.5\n",
      "coreClock: 1.68GHz coreCount: 14 deviceMemorySize: 3.82GiB deviceMemoryBandwidth: 178.84GiB/s\n",
      "2022-08-07 17:16:08.666382: I tensorflow/stream_executor/platform/default/dso_loader.cc:49] Successfully opened dynamic library libcudart.so.10.1\n",
      "2022-08-07 17:16:08.667437: I tensorflow/stream_executor/platform/default/dso_loader.cc:49] Successfully opened dynamic library libcublas.so.10\n",
      "2022-08-07 17:16:08.667467: I tensorflow/stream_executor/platform/default/dso_loader.cc:49] Successfully opened dynamic library libcublasLt.so.10\n",
      "2022-08-07 17:16:08.668486: I tensorflow/stream_executor/platform/default/dso_loader.cc:49] Successfully opened dynamic library libcufft.so.10\n",
      "2022-08-07 17:16:08.668652: I tensorflow/stream_executor/platform/default/dso_loader.cc:49] Successfully opened dynamic library libcurand.so.10\n",
      "2022-08-07 17:16:08.669772: I tensorflow/stream_executor/platform/default/dso_loader.cc:49] Successfully opened dynamic library libcusolver.so.10\n",
      "2022-08-07 17:16:08.670335: I tensorflow/stream_executor/platform/default/dso_loader.cc:49] Successfully opened dynamic library libcusparse.so.10\n",
      "2022-08-07 17:16:08.672649: I tensorflow/stream_executor/platform/default/dso_loader.cc:49] Successfully opened dynamic library libcudnn.so.7\n",
      "2022-08-07 17:16:08.672736: I tensorflow/stream_executor/cuda/cuda_gpu_executor.cc:941] successful NUMA node read from SysFS had negative value (-1), but there must be at least one NUMA node, so returning NUMA node zero\n",
      "2022-08-07 17:16:08.672933: I tensorflow/stream_executor/cuda/cuda_gpu_executor.cc:941] successful NUMA node read from SysFS had negative value (-1), but there must be at least one NUMA node, so returning NUMA node zero\n",
      "2022-08-07 17:16:08.673068: I tensorflow/core/common_runtime/gpu/gpu_device.cc:1862] Adding visible gpu devices: 0\n",
      "2022-08-07 17:16:08.673382: I tensorflow/core/platform/cpu_feature_guard.cc:142] This TensorFlow binary is optimized with oneAPI Deep Neural Network Library (oneDNN) to use the following CPU instructions in performance-critical operations:  SSE4.1 SSE4.2 AVX AVX2 FMA\n",
      "To enable them in other operations, rebuild TensorFlow with the appropriate compiler flags.\n",
      "2022-08-07 17:16:08.674176: I tensorflow/stream_executor/cuda/cuda_gpu_executor.cc:941] successful NUMA node read from SysFS had negative value (-1), but there must be at least one NUMA node, so returning NUMA node zero\n",
      "2022-08-07 17:16:08.674281: I tensorflow/core/common_runtime/gpu/gpu_device.cc:1720] Found device 0 with properties: \n",
      "pciBusID: 0000:01:00.0 name: NVIDIA GeForce GTX 1650 computeCapability: 7.5\n",
      "coreClock: 1.68GHz coreCount: 14 deviceMemorySize: 3.82GiB deviceMemoryBandwidth: 178.84GiB/s\n",
      "2022-08-07 17:16:08.674300: I tensorflow/stream_executor/platform/default/dso_loader.cc:49] Successfully opened dynamic library libcudart.so.10.1\n",
      "2022-08-07 17:16:08.674311: I tensorflow/stream_executor/platform/default/dso_loader.cc:49] Successfully opened dynamic library libcublas.so.10\n",
      "2022-08-07 17:16:08.674320: I tensorflow/stream_executor/platform/default/dso_loader.cc:49] Successfully opened dynamic library libcublasLt.so.10\n",
      "2022-08-07 17:16:08.674329: I tensorflow/stream_executor/platform/default/dso_loader.cc:49] Successfully opened dynamic library libcufft.so.10\n",
      "2022-08-07 17:16:08.674338: I tensorflow/stream_executor/platform/default/dso_loader.cc:49] Successfully opened dynamic library libcurand.so.10\n",
      "2022-08-07 17:16:08.674347: I tensorflow/stream_executor/platform/default/dso_loader.cc:49] Successfully opened dynamic library libcusolver.so.10\n",
      "2022-08-07 17:16:08.674357: I tensorflow/stream_executor/platform/default/dso_loader.cc:49] Successfully opened dynamic library libcusparse.so.10\n",
      "2022-08-07 17:16:08.674366: I tensorflow/stream_executor/platform/default/dso_loader.cc:49] Successfully opened dynamic library libcudnn.so.7\n",
      "2022-08-07 17:16:08.674400: I tensorflow/stream_executor/cuda/cuda_gpu_executor.cc:941] successful NUMA node read from SysFS had negative value (-1), but there must be at least one NUMA node, so returning NUMA node zero\n",
      "2022-08-07 17:16:08.674517: I tensorflow/stream_executor/cuda/cuda_gpu_executor.cc:941] successful NUMA node read from SysFS had negative value (-1), but there must be at least one NUMA node, so returning NUMA node zero\n",
      "2022-08-07 17:16:08.674605: I tensorflow/core/common_runtime/gpu/gpu_device.cc:1862] Adding visible gpu devices: 0\n",
      "2022-08-07 17:16:08.674628: I tensorflow/stream_executor/platform/default/dso_loader.cc:49] Successfully opened dynamic library libcudart.so.10.1\n",
      "2022-08-07 17:16:09.085117: I tensorflow/core/common_runtime/gpu/gpu_device.cc:1261] Device interconnect StreamExecutor with strength 1 edge matrix:\n",
      "2022-08-07 17:16:09.085140: I tensorflow/core/common_runtime/gpu/gpu_device.cc:1267]      0 \n",
      "2022-08-07 17:16:09.085144: I tensorflow/core/common_runtime/gpu/gpu_device.cc:1280] 0:   N \n",
      "2022-08-07 17:16:09.085308: I tensorflow/stream_executor/cuda/cuda_gpu_executor.cc:941] successful NUMA node read from SysFS had negative value (-1), but there must be at least one NUMA node, so returning NUMA node zero\n",
      "2022-08-07 17:16:09.085464: I tensorflow/stream_executor/cuda/cuda_gpu_executor.cc:941] successful NUMA node read from SysFS had negative value (-1), but there must be at least one NUMA node, so returning NUMA node zero\n",
      "2022-08-07 17:16:09.085627: I tensorflow/stream_executor/cuda/cuda_gpu_executor.cc:941] successful NUMA node read from SysFS had negative value (-1), but there must be at least one NUMA node, so returning NUMA node zero\n",
      "2022-08-07 17:16:09.085742: I tensorflow/core/common_runtime/gpu/gpu_device.cc:1406] Created TensorFlow device (/job:localhost/replica:0/task:0/device:GPU:0 with 3346 MB memory) -> physical GPU (device: 0, name: NVIDIA GeForce GTX 1650, pci bus id: 0000:01:00.0, compute capability: 7.5)\n",
      "2022-08-07 17:16:09.085893: I tensorflow/compiler/jit/xla_gpu_device.cc:99] Not creating XLA devices, tf_xla_enable_xla_devices not set\n"
     ]
    }
   ],
   "source": [
    "import pandas as pd\n",
    "\n",
    "df_tweets = pd.read_pickle('/home/daholive/Documents/twitter_ellection_brazil_v2/datasource/refined/tweets_redes_neurais_convolucionais/tweets_redes_neurais_convolucionais.pkl')"
   ]
  },
  {
   "cell_type": "code",
   "execution_count": 4,
   "metadata": {},
   "outputs": [],
   "source": [
    "df_tweets_resume = df_tweets[['query','created_at_tz','sentiment']]"
   ]
  },
  {
   "cell_type": "code",
   "execution_count": 41,
   "metadata": {},
   "outputs": [],
   "source": [
    "df_tweets_analysis = df_tweets_resume.groupby(['query','created_at_tz','sentiment']).agg(\n",
    "    {\n",
    "        'sentiment':'count'\n",
    "    }\n",
    ").rename(columns={'sentiment':'count'}).reset_index().pivot_table(\n",
    "    values='count',\n",
    "    index=['query','created_at_tz'],\n",
    "    columns=['sentiment'],\n",
    "    aggfunc=np.sum\n",
    ").rename(columns={0:'Negative',1:'Positive'}).reset_index()\n"
   ]
  },
  {
   "cell_type": "code",
   "execution_count": 42,
   "metadata": {},
   "outputs": [
    {
     "data": {
      "text/plain": [
       "[<matplotlib.lines.Line2D at 0x7fac10380580>]"
      ]
     },
     "execution_count": 42,
     "metadata": {},
     "output_type": "execute_result"
    },
    {
     "data": {
      "image/png": "[encoded data removed]",
      "text/plain": [
       "<Figure size 432x288 with 1 Axes>"
      ]
     },
     "metadata": {},
     "output_type": "display_data"
    }
   ],
   "source": [
    "from datetime import datetime\n",
    "import matplotlib.pyplot as plt\n",
    "import seaborn as sns\n",
    "\n",
    "df_analysis = df_tweets_analysis[\n",
    "    (df_tweets_analysis['query']=='lula') & ((df_tweets_analysis['created_at_tz']>datetime(2022,3,14).date()) & (df_tweets_analysis['created_at_tz']<datetime(2022,3,25).date()))\n",
    "][['created_at_tz','Negative','Positive']]\n",
    "\n",
    "sns.set()   \n",
    "\n",
    "plt.ylabel('Positive Sentiment')\n",
    "plt.xlabel('Date')\n",
    "plt.xticks(rotation=45)\n",
    "\n",
    "plt.plot(df_analysis.created_at_tz, df_analysis['Positive'])\n",
    "plt.plot(df_analysis.created_at_tz, df_analysis['Negative'])"
   ]
  },
  {
   "cell_type": "code",
   "execution_count": 1,
   "metadata": {},
   "outputs": [],
   "source": [
    "import numpy as np\n",
    "\n",
    "chris_gayle = np.array([32.44, 67.55, 61.08, 59.00, 21.77, 40.91, 22.70, 22.22, 40.88, 40.83])\n",
    "rohit_sharma = np.array([28.85, 33.81, 30.92, 38.42, 30.00, 34.42, 44.45, 23.78, 23.83, 28.92])\n",
    "ms_dhoni = np.array([31.88, 43.55, 29.83, 41.90, 74.20, 31.00, 40.57, 26.36, 75.83, 83.20])\n",
    "virat_kohli = np.array([27.90, 46.41, 28.00, 45.28, 27.61, 45.90, 81.08, 30.80, 48.18, 33.14])"
   ]
  },
  {
   "cell_type": "code",
   "execution_count": 2,
   "metadata": {},
   "outputs": [
    {
     "data": {
      "text/plain": [
       "Text(0.04, 0.5, 'Average Scores in IPL Seasons')"
      ]
     },
     "execution_count": 2,
     "metadata": {},
     "output_type": "execute_result"
    },
    {
     "data": {
      "image/png": "[encoded data removed]",
      "text/plain": [
       "<Figure size 648x504 with 4 Axes>"
      ]
     },
     "metadata": {
      "needs_background": "light"
     },
     "output_type": "display_data"
    }
   ],
   "source": [
    "import matplotlib.pyplot as plt\n",
    "import numpy as np\n",
    "\n",
    "#\n",
    "# Number of years represented as Numpy Array\n",
    "#\n",
    "X = np.array([2010, 2011, 2012, 2013, 2014, 2015, 2016, 2017, 2018, 2019])\n",
    "fig, ax = plt.subplots(2, 2, figsize=(9, 7), sharex=True, sharey=True)\n",
    "\n",
    "#\n",
    "# Chris Gayle\n",
    "#\n",
    "z = np.polyfit(X, chris_gayle, 1)\n",
    "p = np.poly1d(z)\n",
    "ax[1, 0].plot(X,p(X),\"r--\")\n",
    "ax[1, 0].plot(X, chris_gayle)\n",
    "ax[1, 0].set_title('Chris Gayle', fontsize=14)\n",
    "\n",
    "#\n",
    "# Rohit Sharma\n",
    "#\n",
    "z = np.polyfit(X, rohit_sharma, 1)\n",
    "p = np.poly1d(z)\n",
    "ax[0, 0].plot(X,p(X),\"r--\")\n",
    "ax[0, 0].plot(X, rohit_sharma )\n",
    "ax[0, 0].set_title('Rohit Sharma', fontsize=14)\n",
    "\n",
    "#\n",
    "# MS Dhoni\n",
    "#\n",
    "z = np.polyfit(X, ms_dhoni, 1)\n",
    "p = np.poly1d(z)\n",
    "ax[1, 1].plot(X,p(X),\"r--\")\n",
    "ax[1, 1].plot(X, ms_dhoni)\n",
    "ax[1, 1].set_title('MS Dhoni', fontsize=14)\n",
    "\n",
    "#\n",
    "# Virat Kohli\n",
    "#\n",
    "z = np.polyfit(X, virat_kohli, 1)\n",
    "p = np.poly1d(z)\n",
    "ax[0, 1].plot(X,p(X),\"r--\")\n",
    "ax[0, 1].plot(X, virat_kohli)\n",
    "ax[0, 1].set_title('Virat Kohli', fontsize=14)\n",
    "\n",
    "#\n",
    "# Draw the plot\n",
    "#\n",
    "fig.text(0.5, 0.04, 'Years', ha='center', fontsize=18)\n",
    "fig.text(0.04, 0.5, 'Average Scores in IPL Seasons', va='center', rotation='vertical', fontsize=18)"
   ]
  },
  {
   "cell_type": "code",
   "execution_count": 44,
   "metadata": {},
   "outputs": [],
   "source": [
    "df_tweets_analysis = df_tweets_analysis[\n",
    "    ((df_tweets_analysis['created_at_tz']>datetime(2022,3,14).date()) & (df_tweets_analysis['created_at_tz']<datetime(2022,3,25).date()))\n",
    "][['query','created_at_tz','Negative','Positive']]"
   ]
  },
  {
   "cell_type": "code",
   "execution_count": 83,
   "metadata": {},
   "outputs": [
    {
     "data": {
      "text/html": [
       "<div>\n",
       "<style scoped>\n",
       "    .dataframe tbody tr th:only-of-type {\n",
       "        vertical-align: middle;\n",
       "    }\n",
       "\n",
       "    .dataframe tbody tr th {\n",
       "        vertical-align: top;\n",
       "    }\n",
       "\n",
       "    .dataframe thead th {\n",
       "        text-align: right;\n",
       "    }\n",
       "</style>\n",
       "<table border=\"1\" class=\"dataframe\">\n",
       "  <thead>\n",
       "    <tr style=\"text-align: right;\">\n",
       "      <th>sentiment</th>\n",
       "      <th>Positive</th>\n",
       "    </tr>\n",
       "    <tr>\n",
       "      <th>query</th>\n",
       "      <th></th>\n",
       "    </tr>\n",
       "  </thead>\n",
       "  <tbody>\n",
       "    <tr>\n",
       "      <th>aldo rebelo</th>\n",
       "      <td>120.0</td>\n",
       "    </tr>\n",
       "    <tr>\n",
       "      <th>alessandro vieira</th>\n",
       "      <td>288.0</td>\n",
       "    </tr>\n",
       "    <tr>\n",
       "      <th>andré janones</th>\n",
       "      <td>126.0</td>\n",
       "    </tr>\n",
       "    <tr>\n",
       "      <th>bolsonaro</th>\n",
       "      <td>28256.0</td>\n",
       "    </tr>\n",
       "    <tr>\n",
       "      <th>ciro gomes</th>\n",
       "      <td>4086.0</td>\n",
       "    </tr>\n",
       "    <tr>\n",
       "      <th>felipe d'ávila</th>\n",
       "      <td>28.0</td>\n",
       "    </tr>\n",
       "    <tr>\n",
       "      <th>joão doria</th>\n",
       "      <td>856.0</td>\n",
       "    </tr>\n",
       "    <tr>\n",
       "      <th>leonardo péricles</th>\n",
       "      <td>23.0</td>\n",
       "    </tr>\n",
       "    <tr>\n",
       "      <th>lula</th>\n",
       "      <td>23752.0</td>\n",
       "    </tr>\n",
       "    <tr>\n",
       "      <th>rodrigo pacheco</th>\n",
       "      <td>1432.0</td>\n",
       "    </tr>\n",
       "    <tr>\n",
       "      <th>sergio moro</th>\n",
       "      <td>4489.0</td>\n",
       "    </tr>\n",
       "    <tr>\n",
       "      <th>simone tebet</th>\n",
       "      <td>334.0</td>\n",
       "    </tr>\n",
       "  </tbody>\n",
       "</table>\n",
       "</div>"
      ],
      "text/plain": [
       "sentiment          Positive\n",
       "query                      \n",
       "aldo rebelo           120.0\n",
       "alessandro vieira     288.0\n",
       "andré janones         126.0\n",
       "bolsonaro           28256.0\n",
       "ciro gomes           4086.0\n",
       "felipe d'ávila         28.0\n",
       "joão doria            856.0\n",
       "leonardo péricles      23.0\n",
       "lula                23752.0\n",
       "rodrigo pacheco      1432.0\n",
       "sergio moro          4489.0\n",
       "simone tebet          334.0"
      ]
     },
     "execution_count": 83,
     "metadata": {},
     "output_type": "execute_result"
    }
   ],
   "source": [
    "df_tweets_analysis.groupby('query').agg(\n",
    "    {'Positive':'sum'}\n",
    ")"
   ]
  },
  {
   "cell_type": "code",
   "execution_count": 45,
   "metadata": {},
   "outputs": [],
   "source": [
    "df_lula = df_tweets_analysis[\n",
    "    (df_tweets_analysis['query']=='lula') \n",
    "][['created_at_tz','Negative','Positive']]\n",
    "\n",
    "df_bolsonaro = df_tweets_analysis[\n",
    "    (df_tweets_analysis['query']=='bolsonaro') \n",
    "][['created_at_tz','Negative','Positive']]\n",
    "\n",
    "df_aldo_rebelo = df_tweets_analysis[\n",
    "    (df_tweets_analysis['query']=='aldo rebelo') \n",
    "][['created_at_tz','Negative','Positive']]\n",
    "\n",
    "df_alessandro_vieira = df_tweets_analysis[\n",
    "    (df_tweets_analysis['query']=='alessandro vieira') \n",
    "][['created_at_tz','Negative','Positive']]\n",
    "\n",
    "df_andre_janones = df_tweets_analysis[\n",
    "    (df_tweets_analysis['query']=='andré janones') \n",
    "][['created_at_tz','Negative','Positive']]\n",
    "\n",
    "df_ciro_gomes = df_tweets_analysis[\n",
    "    (df_tweets_analysis['query']=='ciro gomes') \n",
    "][['created_at_tz','Negative','Positive']]\n",
    "\n",
    "df_felipe_avila = df_tweets_analysis[\n",
    "    (df_tweets_analysis['query']==\"felipe d'ávila\") \n",
    "][['created_at_tz','Negative','Positive']]\n",
    "\n",
    "df_joao_doria = df_tweets_analysis[\n",
    "    (df_tweets_analysis['query']=='joão doria') \n",
    "][['created_at_tz','Negative','Positive']]\n",
    "\n",
    "df_leonardo_pericles = df_tweets_analysis[\n",
    "    (df_tweets_analysis['query']=='leonardo péricles')\n",
    "][['created_at_tz','Negative','Positive']]\n",
    "\n",
    "df_rodrigo_pacheco = df_tweets_analysis[\n",
    "    (df_tweets_analysis['query']=='rodrigo pacheco') \n",
    "][['created_at_tz','Negative','Positive']]\n",
    "\n",
    "df_sergio_moro = df_tweets_analysis[\n",
    "    (df_tweets_analysis['query']=='sergio moro') \n",
    "][['created_at_tz','Negative','Positive']]\n",
    "\n",
    "df_simone_tebet = df_tweets_analysis[\n",
    "    (df_tweets_analysis['query']=='simone tebet') \n",
    "][['created_at_tz','Negative','Positive']]"
   ]
  },
  {
   "cell_type": "code",
   "execution_count": 51,
   "metadata": {},
   "outputs": [],
   "source": [
    "lula_pos = df_lula['Positive']\n",
    "lula_neg = df_lula['Negative']\n",
    "\n",
    "bolsonaro_pos = df_bolsonaro['Positive']\n",
    "bolsonaro_neg = df_bolsonaro['Negative']\n",
    "\n",
    "aldo_rebelo_pos = df_aldo_rebelo['Positive']\n",
    "aldo_rebelo_neg = df_aldo_rebelo['Negative']\n",
    "\n",
    "alessandro_vieira_pos = df_alessandro_vieira['Positive']\n",
    "alessandro_vieira_neg = df_alessandro_vieira['Negative']\n",
    "\n",
    "andre_janones_pos = df_andre_janones['Positive']\n",
    "andre_janones_neg = df_andre_janones['Negative']\n",
    "\n",
    "ciro_gomes_pos = df_ciro_gomes['Positive']\n",
    "ciro_gomes_neg = df_ciro_gomes['Negative']\n",
    "\n",
    "felipe_avila_pos = df_felipe_avila['Positive']\n",
    "felipe_avila_neg = df_felipe_avila['Negative']\n",
    "\n",
    "joao_doria_pos = df_joao_doria['Positive']\n",
    "joao_doria_neg = df_joao_doria['Negative']\n",
    "\n",
    "leonardo_pericles_pos = df_leonardo_pericles['Positive']\n",
    "leonardo_pericles_neg = df_leonardo_pericles['Negative']\n",
    "\n",
    "rodrigo_pacheco_pos = df_rodrigo_pacheco['Positive']\n",
    "rodrigo_pacheco_neg = df_rodrigo_pacheco['Negative']\n",
    "\n",
    "sergio_moro_pos = df_sergio_moro['Positive']\n",
    "sergio_moro_neg = df_sergio_moro['Negative']\n",
    "\n",
    "simone_tebet_pos = df_simone_tebet['Positive']\n",
    "simone_tebet_neg = df_simone_tebet['Negative']"
   ]
  },
  {
   "cell_type": "code",
   "execution_count": 47,
   "metadata": {},
   "outputs": [
    {
     "data": {
      "text/plain": [
       "[15, 16, 17, 18, 21, 22, 23, 24]"
      ]
     },
     "execution_count": 47,
     "metadata": {},
     "output_type": "execute_result"
    }
   ],
   "source": [
    "[x.day for x in df_tweets_analysis['created_at_tz'].unique()]"
   ]
  },
  {
   "cell_type": "code",
   "execution_count": 88,
   "metadata": {},
   "outputs": [
    {
     "data": {
      "text/plain": [
       "Text(0.04, 0.5, 'Quantidade de Sentimentos')"
      ]
     },
     "execution_count": 88,
     "metadata": {},
     "output_type": "execute_result"
    },
    {
     "data": {
      "image/png": "[encoded data removed]",
      "text/plain": [
       "<Figure size 1296x504 with 10 Axes>"
      ]
     },
     "metadata": {},
     "output_type": "display_data"
    }
   ],
   "source": [
    "X = np.array([x.day for x in df_tweets_analysis['created_at_tz'].unique()])\n",
    "fig, ax = plt.subplots(2, 5, figsize=(18, 7), sharex=True, sharey=True)\n",
    "\n",
    "#\n",
    "# lula\n",
    "#\n",
    "z = np.polyfit(X, lula_pos, 1)\n",
    "p = np.poly1d(z)\n",
    "ax[0, 0].plot(X,p(X),\"r--\")\n",
    "ax[0, 0].plot(X, lula_pos )\n",
    "ax[0, 0].set_title('Lula - Positive', fontsize=14)\n",
    "\n",
    "# lula\n",
    "#\n",
    "z = np.polyfit(X, lula_neg, 1)\n",
    "p = np.poly1d(z)\n",
    "ax[1, 0].plot(X,p(X),\"r--\")\n",
    "ax[1, 0].plot(X, lula_neg)\n",
    "ax[1, 0].set_title('Lula - Negative', fontsize=14)\n",
    "\n",
    "\n",
    "#\n",
    "# Bolsonaro\n",
    "#\n",
    "z = np.polyfit(X, bolsonaro_pos, 1)\n",
    "p = np.poly1d(z)\n",
    "ax[0, 1].plot(X,p(X),\"r--\")\n",
    "ax[0, 1].plot(X, bolsonaro_pos )\n",
    "ax[0, 1].set_title('Bolsonaro - Positive', fontsize=14)\n",
    "\n",
    "# Bolsonaro\n",
    "#\n",
    "z = np.polyfit(X, bolsonaro_neg, 1)\n",
    "p = np.poly1d(z)\n",
    "ax[1, 1].plot(X,p(X),\"r--\")\n",
    "ax[1, 1].plot(X, bolsonaro_neg)\n",
    "ax[1, 1].set_title('Bolsonaro - Negative', fontsize=14)\n",
    "\n",
    "\n",
    "#\n",
    "# Sergio Moro\n",
    "#\n",
    "z = np.polyfit(X, sergio_moro_pos, 1)\n",
    "p = np.poly1d(z)\n",
    "ax[0, 2].plot(X,p(X),\"r--\")\n",
    "ax[0, 2].plot(X, sergio_moro_pos )\n",
    "ax[0, 2].set_title('Sergio Moro - Positive', fontsize=14)\n",
    "\n",
    "# Sergio Moro\n",
    "#\n",
    "z = np.polyfit(X, sergio_moro_neg, 1)\n",
    "p = np.poly1d(z)\n",
    "ax[1, 2].plot(X,p(X),\"r--\")\n",
    "ax[1, 2].plot(X, sergio_moro_neg)\n",
    "ax[1, 2].set_title('Serio Moro - Negative', fontsize=14)\n",
    "\n",
    "#\n",
    "# João Doria\n",
    "#\n",
    "z = np.polyfit(X, joao_doria_pos, 1)\n",
    "p = np.poly1d(z)\n",
    "ax[0, 3].plot(X,p(X),\"r--\")\n",
    "ax[0, 3].plot(X, joao_doria_pos )\n",
    "ax[0, 3].set_title('João Doria - Positive', fontsize=14)\n",
    "\n",
    "# João Doria\n",
    "#\n",
    "z = np.polyfit(X, joao_doria_neg, 1)\n",
    "p = np.poly1d(z)\n",
    "ax[1, 3].plot(X,p(X),\"r--\")\n",
    "ax[1, 3].plot(X, joao_doria_neg)\n",
    "ax[1, 3].set_title('João Doria - Negative', fontsize=14)\n",
    "\n",
    "#\n",
    "# Ciro Gomes\n",
    "#\n",
    "z = np.polyfit(X, ciro_gomes_pos, 1)\n",
    "p = np.poly1d(z)\n",
    "ax[0, 4].plot(X,p(X),\"r--\")\n",
    "ax[0, 4].plot(X, ciro_gomes_pos )\n",
    "ax[0, 4].set_title('Ciro Gomes - Positive', fontsize=14)\n",
    "\n",
    "# Ciro Gomes\n",
    "#\n",
    "z = np.polyfit(X, ciro_gomes_neg, 1)\n",
    "p = np.poly1d(z)\n",
    "ax[1, 4].plot(X,p(X),\"r--\")\n",
    "ax[1, 4].plot(X, ciro_gomes_neg)\n",
    "ax[1, 4].set_title('Ciro Gomes - Negative', fontsize=14)\n",
    "\n",
    "\n",
    "fig.text(0.5, 0.04, 'Dados coletados entre 16/03/2022 a 24/03/2022', ha='center', fontsize=18)\n",
    "fig.text(0.04, 0.5, 'Quantidade de Sentimentos', va='center', rotation='vertical', fontsize=18)"
   ]
  },
  {
   "cell_type": "code",
   "execution_count": null,
   "metadata": {},
   "outputs": [],
   "source": []
  }
 ],
 "metadata": {
  "interpreter": {
   "hash": "60c0eae9c48b613b38283907a3e5249fb461fae5c3397c9b6eb4a8c20420e31a"
  },
  "kernelspec": {
   "display_name": "Python 3 (ipykernel)",
   "language": "python",
   "name": "python3"
  },
  "language_info": {
   "codemirror_mode": {
    "name": "ipython",
    "version": 3
   },
   "file_extension": ".py",
   "mimetype": "text/x-python",
   "name": "python",
   "nbconvert_exporter": "python",
   "pygments_lexer": "ipython3",
   "version": "3.8.13"
  }
 },
 "nbformat": 4,
 "nbformat_minor": 2
}
