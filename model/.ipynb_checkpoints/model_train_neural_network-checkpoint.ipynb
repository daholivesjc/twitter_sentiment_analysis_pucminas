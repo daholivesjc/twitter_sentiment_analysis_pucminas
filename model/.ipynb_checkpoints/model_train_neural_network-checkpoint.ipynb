{
 "cells": [
  {
   "cell_type": "code",
   "execution_count": 2,
   "metadata": {},
   "outputs": [],
   "source": [
    "from helpers import (\n",
    "    preprocessing\n",
    ")\n",
    "import pyspark.sql.functions as F\n",
    "from pyspark.sql import SparkSession\n",
    "from pyspark.sql.types import StringType, StructField, StructType, IntegerType, DateType, FloatType, ArrayType, LongType, MapType\n",
    "import warnings\n",
    "import numpy as np \n",
    "import tensorflow as tf\n",
    "from tensorflow.keras import layers\n",
    "warnings.filterwarnings('ignore')"
   ]
  },
  {
   "cell_type": "code",
   "execution_count": 3,
   "metadata": {},
   "outputs": [],
   "source": [
    "# base de dados do twitter ja classificada com sentimentos\n",
    "path = \"/home/daholive/Documents/twitter_ellection_brazil_v2/datasource/raw_kaggle/TweetsWithTheme_v2.csv\""
   ]
  },
  {
   "cell_type": "code",
   "execution_count": 4,
   "metadata": {
    "scrolled": true
   },
   "outputs": [
    {
     "name": "stderr",
     "output_type": "stream",
     "text": [
      "22/08/01 21:28:45 WARN Utils: Your hostname, daholive-Dell-G15-5510 resolves to a loopback address: 127.0.1.1; using 192.168.0.114 instead (on interface wlp0s20f3)\n",
      "22/08/01 21:28:45 WARN Utils: Set SPARK_LOCAL_IP if you need to bind to another address\n",
      "WARNING: An illegal reflective access operation has occurred\n",
      "WARNING: Illegal reflective access by org.apache.spark.unsafe.Platform (file:/home/daholive/anaconda3/envs/twiiter_tensor/lib/python3.8/site-packages/pyspark/jars/spark-unsafe_2.12-3.2.1.jar) to constructor java.nio.DirectByteBuffer(long,int)\n",
      "WARNING: Please consider reporting this to the maintainers of org.apache.spark.unsafe.Platform\n",
      "WARNING: Use --illegal-access=warn to enable warnings of further illegal reflective access operations\n",
      "WARNING: All illegal access operations will be denied in a future release\n",
      "Ivy Default Cache set to: /home/daholive/.ivy2/cache\n",
      "The jars for the packages stored in: /home/daholive/.ivy2/jars\n",
      "io.delta#delta-core_2.12 added as a dependency\n",
      ":: resolving dependencies :: org.apache.spark#spark-submit-parent-1e70b00a-b2ae-49c4-a0c7-e29912dc5276;1.0\n",
      "\tconfs: [default]\n"
     ]
    },
    {
     "name": "stdout",
     "output_type": "stream",
     "text": [
      ":: loading settings :: url = jar:file:/home/daholive/anaconda3/envs/twiiter_tensor/lib/python3.8/site-packages/pyspark/jars/ivy-2.5.0.jar!/org/apache/ivy/core/settings/ivysettings.xml\n"
     ]
    },
    {
     "name": "stderr",
     "output_type": "stream",
     "text": [
      "\tfound io.delta#delta-core_2.12;1.1.0 in central\n",
      "\tfound org.antlr#antlr4-runtime;4.8 in central\n",
      "\tfound org.codehaus.jackson#jackson-core-asl;1.9.13 in central\n",
      ":: resolution report :: resolve 137ms :: artifacts dl 5ms\n",
      "\t:: modules in use:\n",
      "\tio.delta#delta-core_2.12;1.1.0 from central in [default]\n",
      "\torg.antlr#antlr4-runtime;4.8 from central in [default]\n",
      "\torg.codehaus.jackson#jackson-core-asl;1.9.13 from central in [default]\n",
      "\t---------------------------------------------------------------------\n",
      "\t|                  |            modules            ||   artifacts   |\n",
      "\t|       conf       | number| search|dwnlded|evicted|| number|dwnlded|\n",
      "\t---------------------------------------------------------------------\n",
      "\t|      default     |   3   |   0   |   0   |   0   ||   3   |   0   |\n",
      "\t---------------------------------------------------------------------\n",
      ":: retrieving :: org.apache.spark#spark-submit-parent-1e70b00a-b2ae-49c4-a0c7-e29912dc5276\n",
      "\tconfs: [default]\n",
      "\t0 artifacts copied, 3 already retrieved (0kB/4ms)\n",
      "22/08/01 21:28:45 WARN NativeCodeLoader: Unable to load native-hadoop library for your platform... using builtin-java classes where applicable\n",
      "Using Spark's default log4j profile: org/apache/spark/log4j-defaults.properties\n",
      "Setting default log level to \"WARN\".\n",
      "To adjust logging level use sc.setLogLevel(newLevel). For SparkR, use setLogLevel(newLevel).\n"
     ]
    }
   ],
   "source": [
    "# instancia spark\n",
    "spark = SparkSession.builder \\\n",
    "    .master(\"local[*]\") \\\n",
    "    .config(\"spark.jars.packages\", \"io.delta:delta-core_2.12:1.1.0\") \\\n",
    "    .config(\"spark.sql.extensions\", \"io.delta.sql.DeltaSparkSessionExtension\") \\\n",
    "    .config(\"spark.sql.catalog.spark_catalog\", \"org.apache.spark.sql.delta.catalog.DeltaCatalog\") \\\n",
    "    .config(\"spark.executor.memory\",\"4G\") \\\n",
    "    .config(\"spark.driver.memory\",\"4G\") \\\n",
    "    .config(\"spark.executor.cores\",\"12\") \\\n",
    "    .config(\"spark.sql.execution.arrow.pyspark.enabled\",\"true\") \\\n",
    "    .getOrCreate()"
   ]
  },
  {
   "cell_type": "code",
   "execution_count": 39,
   "metadata": {},
   "outputs": [],
   "source": [
    "# dataframe twitter com sentimentos classificados\n",
    "dataframe = spark.read.options(delimiter=';',header='True').csv(path)"
   ]
  },
  {
   "cell_type": "code",
   "execution_count": 98,
   "metadata": {},
   "outputs": [],
   "source": [
    "# label adjust\n",
    "dataframe = dataframe.withColumn(\"sentiment_map\", \n",
    "    F.when(F.col(\"sentiment\")==\"Negativo\", 0).otherwise(1)\n",
    ")"
   ]
  },
  {
   "cell_type": "code",
   "execution_count": 99,
   "metadata": {},
   "outputs": [],
   "source": [
    "# dataframe features\n",
    "rdd2 = dataframe.rdd.map(lambda x: (preprocessing(x.tweet_text),len(preprocessing(x.tweet_text).split()),x.sentiment_map))\n",
    "\n",
    "schema = StructType([       \n",
    "    StructField('features', StringType(), True),\n",
    "    StructField('tokens_count', IntegerType(), True),\n",
    "    StructField('label', IntegerType(), True),\n",
    "])\n",
    "\n",
    "df_features = spark.createDataFrame(rdd2, schema = schema)\n",
    "\n",
    "count_map = F.udf( \n",
    "    lambda x: len(x.split()),\n",
    "    IntegerType()     \n",
    ")\n",
    "\n",
    "df_features = df_features \\\n",
    "    .filter(F.col(\"features\")!=\"-\") \\\n",
    "    .filter( count_map(F.col(\"features\"))<30 ) \\\n",
    "    .dropDuplicates(subset = ['features'])"
   ]
  },
  {
   "cell_type": "code",
   "execution_count": 100,
   "metadata": {},
   "outputs": [
    {
     "name": "stderr",
     "output_type": "stream",
     "text": [
      "[Stage 63:===========================================>              (3 + 1) / 4]\r"
     ]
    },
    {
     "name": "stdout",
     "output_type": "stream",
     "text": [
      "+-----+-----+\n",
      "|label|count|\n",
      "+-----+-----+\n",
      "|    1|31313|\n",
      "|    0|27446|\n",
      "+-----+-----+\n",
      "\n"
     ]
    },
    {
     "name": "stderr",
     "output_type": "stream",
     "text": [
      "\r",
      "                                                                                \r"
     ]
    }
   ],
   "source": [
    "df_features.groupby('label').count().show()"
   ]
  },
  {
   "cell_type": "code",
   "execution_count": 105,
   "metadata": {},
   "outputs": [],
   "source": [
    "train = df_features.sampleBy(\"label\", fractions={0: 1, 1: 0.87}, seed=10)"
   ]
  },
  {
   "cell_type": "code",
   "execution_count": 106,
   "metadata": {},
   "outputs": [
    {
     "name": "stderr",
     "output_type": "stream",
     "text": [
      "[Stage 81:===========================================>              (3 + 1) / 4]\r"
     ]
    },
    {
     "name": "stdout",
     "output_type": "stream",
     "text": [
      "+-----+-----+\n",
      "|label|count|\n",
      "+-----+-----+\n",
      "|    1|27266|\n",
      "|    0|27446|\n",
      "+-----+-----+\n",
      "\n"
     ]
    },
    {
     "name": "stderr",
     "output_type": "stream",
     "text": [
      "\r",
      "                                                                                \r"
     ]
    }
   ],
   "source": [
    "train.groupby('label').count().show()"
   ]
  },
  {
   "cell_type": "code",
   "execution_count": 107,
   "metadata": {},
   "outputs": [
    {
     "name": "stderr",
     "output_type": "stream",
     "text": [
      "                                                                                \r"
     ]
    }
   ],
   "source": [
    "# features and labels\n",
    "features = train.select('features').rdd.flatMap(lambda x: x).collect()\n",
    "labels = np.array(train.select('label').rdd.flatMap(lambda x: x).collect())"
   ]
  },
  {
   "cell_type": "code",
   "execution_count": 108,
   "metadata": {},
   "outputs": [],
   "source": [
    "# tensorflow - tokenizacao\n",
    "import tensorflow_datasets as tfds\n",
    "import random\n",
    "\n",
    "tokenizer = tfds.deprecated.text.SubwordTextEncoder.build_from_corpus(features, target_vocab_size=2**16)"
   ]
  },
  {
   "cell_type": "code",
   "execution_count": 109,
   "metadata": {},
   "outputs": [],
   "source": [
    "# tensorflow - padding\n",
    "data_inputs = [tokenizer.encode(sentence) for sentence in features]\n",
    "\n",
    "max_len = max([len(sentence) for sentence in data_inputs])\n",
    "\n",
    "data_inputs = tf.keras.preprocessing.sequence.pad_sequences(data_inputs,\n",
    "                                                            value = 0,\n",
    "                                                            padding = 'post',\n",
    "                                                            maxlen=max_len)"
   ]
  },
  {
   "cell_type": "code",
   "execution_count": 110,
   "metadata": {},
   "outputs": [],
   "source": [
    "# data split\n",
    "from sklearn.model_selection import train_test_split\n",
    "train_inputs, test_inputs, train_labels, test_labels = train_test_split(data_inputs,\n",
    "                                                                        labels,\n",
    "                                                                        test_size=0.3,\n",
    "                                                                        stratify = labels)"
   ]
  },
  {
   "cell_type": "code",
   "execution_count": 111,
   "metadata": {},
   "outputs": [],
   "source": [
    "# model build\n",
    "class DCNN(tf.keras.Model): \n",
    "\n",
    "  def __init__(self,\n",
    "               vocab_size,\n",
    "               emb_dim=128,\n",
    "               nb_filters=50,\n",
    "               ffn_units=512, \n",
    "               nb_classes=2,\n",
    "               dropout_rate=0.1,\n",
    "               training=True,\n",
    "               name=\"dcnn\"):\n",
    "      \n",
    "    super(DCNN, self).__init__(name=name)\n",
    "    \n",
    "    self.embedding = layers.Embedding(vocab_size, emb_dim)\n",
    "\n",
    "    self.bigram = layers.Conv1D(filters=nb_filters, kernel_size=2, padding='same', activation='relu')\n",
    "    self.trigram = layers.Conv1D(filters=nb_filters, kernel_size=3, padding='same', activation='relu')\n",
    "    self.fourgram = layers.Conv1D(filters=nb_filters, kernel_size=4, padding='same', activation='relu')\n",
    "\n",
    "    self.pool = layers.GlobalMaxPool1D()\n",
    "\n",
    "    self.dense_1 = layers.Dense(units = ffn_units, activation = 'relu')\n",
    "\n",
    "    self.dropout = layers.Dropout(rate = dropout_rate)\n",
    "    \n",
    "    if nb_classes == 2:\n",
    "      self.last_dense = layers.Dense(units = 1, activation = 'sigmoid')\n",
    "    else:\n",
    "      self.last_dense = layers.Dense(units = nb_classes, activation = 'softmax')\n",
    "\n",
    "  def call(self, inputs, training):\n",
    "    x = self.embedding(inputs) \n",
    "    x_1 = self.bigram(x) \n",
    "    x_1 = self.pool(x_1) \n",
    "    x_2 = self.trigram(x) \n",
    "    x_2 = self.pool(x_2) \n",
    "    x_3 = self.fourgram(x) \n",
    "    x_3 = self.pool(x_3) \n",
    "\n",
    "    merged = tf.concat([x_1, x_2, x_3], axis = -1) # (batch_size, 3 * nb_filters)\n",
    "\n",
    "    merged = self.dense_1(merged)\n",
    "    merged = self.dropout(merged, training)\n",
    "    output = self.last_dense(merged)\n",
    "\n",
    "    return output"
   ]
  },
  {
   "cell_type": "code",
   "execution_count": 112,
   "metadata": {},
   "outputs": [],
   "source": [
    "# variables init\n",
    "vocab_size = tokenizer.vocab_size\n",
    "emb_dim = 200 \n",
    "nb_filters = 100 \n",
    "ffn_units = 256 # 256\n",
    "batch_size = 64 \n",
    "nb_classes = len(set(train_labels)) \n",
    "dropout_rate = 0.2\n",
    "nb_epochs = 10"
   ]
  },
  {
   "cell_type": "code",
   "execution_count": 113,
   "metadata": {
    "scrolled": true
   },
   "outputs": [],
   "source": [
    "# tensorflow parameters for local GPU\n",
    "physical_devices = tf.config.experimental.list_physical_devices('GPU')\n",
    "assert len(physical_devices) > 0, \"Not enough GPU hardware devices available\"\n",
    "config = tf.config.experimental.set_memory_growth(physical_devices[0], True)"
   ]
  },
  {
   "cell_type": "code",
   "execution_count": 114,
   "metadata": {
    "scrolled": true
   },
   "outputs": [],
   "source": [
    "# model instance\n",
    "Dcnn = DCNN(\n",
    "    vocab_size=vocab_size, \n",
    "    emb_dim=emb_dim, \n",
    "    nb_filters=nb_filters,\n",
    "    ffn_units=ffn_units, \n",
    "    nb_classes=nb_classes, \n",
    "    dropout_rate=dropout_rate\n",
    ")"
   ]
  },
  {
   "cell_type": "code",
   "execution_count": 115,
   "metadata": {},
   "outputs": [],
   "source": [
    "# model compile\n",
    "Dcnn.compile(\n",
    "    loss='binary_crossentropy', \n",
    "    optimizer='adam', \n",
    "    metrics=['accuracy']\n",
    ")"
   ]
  },
  {
   "cell_type": "code",
   "execution_count": 116,
   "metadata": {},
   "outputs": [],
   "source": [
    "# model checkpoint\n",
    "checkpoint_path = \"/home/daholive/Documents/twitter_ellection_brazil_v2/model/checkpoints\"\n",
    "ckpt = tf.train.Checkpoint(Dcnn=Dcnn) # passando o objeto que iremos salvar\n",
    "ckpt_manager = tf.train.CheckpointManager(ckpt, checkpoint_path, max_to_keep=5)\n",
    "if ckpt_manager.latest_checkpoint: # verifica se existe um ultimo checkpoint salvo\n",
    "    ckpt.restore(ckpt_manager.latest_checkpoint) # restaura o ultimo checkpoint salvo\n",
    "    print('Latest checkpoint restored')"
   ]
  },
  {
   "cell_type": "code",
   "execution_count": 117,
   "metadata": {},
   "outputs": [
    {
     "name": "stdout",
     "output_type": "stream",
     "text": [
      "Epoch 1/10\n"
     ]
    },
    {
     "name": "stderr",
     "output_type": "stream",
     "text": [
      "2022-08-01 22:11:49.409744: I tensorflow/stream_executor/cuda/cuda_driver.cc:789] failed to allocate 1.95G (2092630016 bytes) from device: CUDA_ERROR_OUT_OF_MEMORY: out of memory\n"
     ]
    },
    {
     "name": "stdout",
     "output_type": "stream",
     "text": [
      "539/539 [==============================] - 20s 36ms/step - loss: 0.5463 - accuracy: 0.6955 - val_loss: 0.4595 - val_accuracy: 0.7708\n",
      "Epoch 2/10\n",
      "539/539 [==============================] - 22s 42ms/step - loss: 0.3298 - accuracy: 0.8577 - val_loss: 0.4844 - val_accuracy: 0.7655\n",
      "Epoch 3/10\n",
      "539/539 [==============================] - 19s 35ms/step - loss: 0.1429 - accuracy: 0.9493 - val_loss: 0.6722 - val_accuracy: 0.7533\n",
      "Epoch 4/10\n",
      "539/539 [==============================] - 21s 39ms/step - loss: 0.0472 - accuracy: 0.9840 - val_loss: 0.9258 - val_accuracy: 0.7368\n",
      "Epoch 5/10\n",
      "539/539 [==============================] - 22s 41ms/step - loss: 0.0201 - accuracy: 0.9937 - val_loss: 1.1280 - val_accuracy: 0.7480\n",
      "Epoch 6/10\n",
      "539/539 [==============================] - 23s 42ms/step - loss: 0.0122 - accuracy: 0.9963 - val_loss: 1.4143 - val_accuracy: 0.7499\n",
      "Epoch 7/10\n",
      "539/539 [==============================] - 24s 44ms/step - loss: 0.0159 - accuracy: 0.9943 - val_loss: 1.4493 - val_accuracy: 0.7444\n",
      "Epoch 8/10\n",
      "539/539 [==============================] - 22s 42ms/step - loss: 0.0183 - accuracy: 0.9929 - val_loss: 1.3626 - val_accuracy: 0.7514\n",
      "Epoch 9/10\n",
      "539/539 [==============================] - 22s 41ms/step - loss: 0.0104 - accuracy: 0.9961 - val_loss: 1.3255 - val_accuracy: 0.7501\n",
      "Epoch 10/10\n",
      "539/539 [==============================] - 24s 45ms/step - loss: 0.0123 - accuracy: 0.9957 - val_loss: 1.5970 - val_accuracy: 0.7462\n"
     ]
    },
    {
     "data": {
      "text/plain": [
       "'/home/daholive/Documents/twitter_ellection_brazil_v2/model/checkpoints/ckpt-1'"
      ]
     },
     "execution_count": 117,
     "metadata": {},
     "output_type": "execute_result"
    }
   ],
   "source": [
    "# model fit\n",
    "history = Dcnn.fit(\n",
    "    train_inputs, \n",
    "    train_labels,\n",
    "    batch_size = batch_size,\n",
    "    epochs = nb_epochs,\n",
    "    verbose = 1,\n",
    "    validation_split = 0.10\n",
    ")\n",
    "ckpt_manager.save()"
   ]
  },
  {
   "cell_type": "code",
   "execution_count": 118,
   "metadata": {},
   "outputs": [
    {
     "name": "stdout",
     "output_type": "stream",
     "text": [
      "257/257 [==============================] - 1s 3ms/step - loss: 1.6821 - accuracy: 0.7430\n"
     ]
    }
   ],
   "source": [
    "# model available\n",
    "results = Dcnn.evaluate(\n",
    "    test_inputs, \n",
    "    test_labels, \n",
    "    batch_size=batch_size\n",
    ")\n",
    "\n",
    "y_pred_test = Dcnn.predict(test_inputs)\n",
    "y_pred_test = (y_pred_test > 0.5)"
   ]
  },
  {
   "cell_type": "code",
   "execution_count": 119,
   "metadata": {},
   "outputs": [
    {
     "data": {
      "text/plain": [
       "array([[6091, 2143],\n",
       "       [2076, 6104]])"
      ]
     },
     "execution_count": 119,
     "metadata": {},
     "output_type": "execute_result"
    }
   ],
   "source": [
    "# confusion matrix\n",
    "from sklearn.metrics import confusion_matrix\n",
    "import seaborn as sns\n",
    "cm = confusion_matrix(test_labels, y_pred_test)\n",
    "cm"
   ]
  },
  {
   "cell_type": "code",
   "execution_count": 120,
   "metadata": {},
   "outputs": [
    {
     "data": {
      "text/plain": [
       "<AxesSubplot:>"
      ]
     },
     "execution_count": 120,
     "metadata": {},
     "output_type": "execute_result"
    },
    {
     "data": {
      "image/png": "[encoded data removed]",
      "text/plain": [
       "<Figure size 432x288 with 2 Axes>"
      ]
     },
     "metadata": {
      "needs_background": "light"
     },
     "output_type": "display_data"
    }
   ],
   "source": [
    "# confusion matrix heatmap\n",
    "sns.heatmap(cm, annot=True)"
   ]
  },
  {
   "cell_type": "code",
   "execution_count": 121,
   "metadata": {},
   "outputs": [
    {
     "data": {
      "text/plain": [
       "dict_keys(['loss', 'accuracy', 'val_loss', 'val_accuracy'])"
      ]
     },
     "execution_count": 121,
     "metadata": {},
     "output_type": "execute_result"
    }
   ],
   "source": [
    "# execution history\n",
    "history.history.keys()"
   ]
  },
  {
   "cell_type": "code",
   "execution_count": 122,
   "metadata": {},
   "outputs": [
    {
     "data": {
      "text/plain": [
       "<matplotlib.legend.Legend at 0x7fa0ae9f1610>"
      ]
     },
     "execution_count": 122,
     "metadata": {},
     "output_type": "execute_result"
    },
    {
     "data": {
      "image/png": "[encoded data removed]",
      "text/plain": [
       "<Figure size 432x288 with 1 Axes>"
      ]
     },
     "metadata": {
      "needs_background": "light"
     },
     "output_type": "display_data"
    }
   ],
   "source": [
    "# chart - training and validation data versus loss progress\n",
    "import matplotlib.pyplot as plt\n",
    "\n",
    "plt.plot(history.history['loss'])\n",
    "plt.plot(history.history['val_loss'])\n",
    "plt.title('Model loss progress during training and validation')\n",
    "plt.xlabel('Epoch')\n",
    "plt.ylabel('Losses')\n",
    "plt.legend(['Training loss', 'Validation loss'])"
   ]
  },
  {
   "cell_type": "code",
   "execution_count": 123,
   "metadata": {},
   "outputs": [
    {
     "data": {
      "text/plain": [
       "<matplotlib.legend.Legend at 0x7fa0afeb84f0>"
      ]
     },
     "execution_count": 123,
     "metadata": {},
     "output_type": "execute_result"
    },
    {
     "data": {
      "image/png": "[encoded data removed]",
      "text/plain": [
       "<Figure size 432x288 with 1 Axes>"
      ]
     },
     "metadata": {
      "needs_background": "light"
     },
     "output_type": "display_data"
    }
   ],
   "source": [
    "# chart - training and validation data versus accuracy progress\n",
    "plt.plot(history.history['accuracy'])\n",
    "plt.plot(history.history['val_accuracy'])\n",
    "plt.title('Model accuracy progress during training and validation')\n",
    "plt.xlabel('Epoch')\n",
    "plt.ylabel('Accuracy')\n",
    "plt.legend(['Training accuracy', 'Validation accuracy'])"
   ]
  },
  {
   "cell_type": "code",
   "execution_count": 126,
   "metadata": {},
   "outputs": [
    {
     "data": {
      "text/plain": [
       "array([[1.3808028e-05]], dtype=float32)"
      ]
     },
     "execution_count": 126,
     "metadata": {},
     "output_type": "execute_result"
    }
   ],
   "source": [
    "# predict - 1\n",
    "text = 'Lula é o melhor presidente'\n",
    "text = tokenizer.encode(text) # texto tokenizado\n",
    "\n",
    "Dcnn(np.array([text]), training=False).numpy()"
   ]
  },
  {
   "cell_type": "code",
   "execution_count": 127,
   "metadata": {},
   "outputs": [
    {
     "data": {
      "text/plain": [
       "array([[0.00162002]], dtype=float32)"
      ]
     },
     "execution_count": 127,
     "metadata": {},
     "output_type": "execute_result"
    }
   ],
   "source": [
    "# predict - 2\n",
    "text = 'Bolsonaro não é de nada'\n",
    "text = tokenizer.encode(text) # texto tokenizado\n",
    "\n",
    "Dcnn(np.array([text]), training=False).numpy()"
   ]
  },
  {
   "cell_type": "markdown",
   "metadata": {},
   "source": [
    "## TWIITER - DADOS RECENTES - APLICAÇÃO REDES NEURAIS CONVOLUCIONAIS"
   ]
  },
  {
   "cell_type": "code",
   "execution_count": 128,
   "metadata": {},
   "outputs": [],
   "source": [
    "import os\n",
    "path = os.path.abspath(os.path.join('..', ''))\n",
    "df_twitter = spark.read.parquet(path+\"/datasource/trusted/tweets_preprocessing\")"
   ]
  },
  {
   "cell_type": "code",
   "execution_count": 129,
   "metadata": {},
   "outputs": [
    {
     "name": "stderr",
     "output_type": "stream",
     "text": [
      "\r",
      "[Stage 94:>                                                       (0 + 12) / 13]\r",
      "\r",
      "                                                                                \r"
     ]
    }
   ],
   "source": [
    "features_ = df_twitter.rdd.map(lambda x: (\n",
    "    {\n",
    "        'twitter_id': x.twitter_id,\n",
    "        'candidato': x.query,\n",
    "        'text': x.text,\n",
    "        'created_at_tz':x.created_at_tz, \n",
    "        'text_clean': x.text_clean\n",
    "    }\n",
    ")).collect()"
   ]
  },
  {
   "cell_type": "code",
   "execution_count": 130,
   "metadata": {},
   "outputs": [
    {
     "name": "stderr",
     "output_type": "stream",
     "text": [
      "2022-08-01 22:16:58.467181: W tensorflow/core/common_runtime/bfc_allocator.cc:314] Garbage collection: deallocate free memory regions (i.e., allocations) so that we can re-allocate a larger region to avoid OOM due to memory fragmentation. If you see this message frequently, you are running near the threshold of the available device memory and re-allocation may incur great performance overhead. You may try smaller batch sizes to observe the performance impact. Set TF_ENABLE_GPU_GARBAGE_COLLECTION=false if you'd like to disable this feature.\n",
      "2022-08-01 22:16:58.540949: I tensorflow/stream_executor/cuda/cuda_driver.cc:789] failed to allocate 3.23G (3468361728 bytes) from device: CUDA_ERROR_OUT_OF_MEMORY: out of memory\n",
      "2022-08-01 22:16:58.541040: W tensorflow/core/common_runtime/bfc_allocator.cc:248] Allocator (GPU_0_bfc) ran out of memory trying to allocate 2.52GiB with freed_by_count=0. The caller indicates that this is not a failure, but may mean that there could be performance gains if more memory were available.\n",
      "2022-08-01 22:16:58.542367: I tensorflow/stream_executor/cuda/cuda_driver.cc:789] failed to allocate 3.23G (3468361728 bytes) from device: CUDA_ERROR_OUT_OF_MEMORY: out of memory\n",
      "2022-08-01 22:16:58.542415: W tensorflow/core/common_runtime/bfc_allocator.cc:248] Allocator (GPU_0_bfc) ran out of memory trying to allocate 18.67MiB with freed_by_count=0. The caller indicates that this is not a failure, but may mean that there could be performance gains if more memory were available.\n",
      "2022-08-01 22:16:58.546697: I tensorflow/stream_executor/cuda/cuda_driver.cc:789] failed to allocate 3.23G (3468361728 bytes) from device: CUDA_ERROR_OUT_OF_MEMORY: out of memory\n",
      "2022-08-01 22:16:58.546768: W tensorflow/core/common_runtime/bfc_allocator.cc:248] Allocator (GPU_0_bfc) ran out of memory trying to allocate 16.00MiB with freed_by_count=0. The caller indicates that this is not a failure, but may mean that there could be performance gains if more memory were available.\n",
      "2022-08-01 22:16:58.549190: I tensorflow/stream_executor/cuda/cuda_driver.cc:789] failed to allocate 3.23G (3468361728 bytes) from device: CUDA_ERROR_OUT_OF_MEMORY: out of memory\n",
      "2022-08-01 22:16:58.549246: W tensorflow/core/common_runtime/bfc_allocator.cc:248] Allocator (GPU_0_bfc) ran out of memory trying to allocate 16.16MiB with freed_by_count=0. The caller indicates that this is not a failure, but may mean that there could be performance gains if more memory were available.\n",
      "2022-08-01 22:16:58.550503: I tensorflow/stream_executor/cuda/cuda_driver.cc:789] failed to allocate 3.23G (3468361728 bytes) from device: CUDA_ERROR_OUT_OF_MEMORY: out of memory\n",
      "2022-08-01 22:16:58.550546: W tensorflow/core/common_runtime/bfc_allocator.cc:248] Allocator (GPU_0_bfc) ran out of memory trying to allocate 2.52GiB with freed_by_count=0. The caller indicates that this is not a failure, but may mean that there could be performance gains if more memory were available.\n",
      "2022-08-01 22:16:58.551837: I tensorflow/stream_executor/cuda/cuda_driver.cc:789] failed to allocate 3.23G (3468361728 bytes) from device: CUDA_ERROR_OUT_OF_MEMORY: out of memory\n",
      "2022-08-01 22:16:58.551883: W tensorflow/core/common_runtime/bfc_allocator.cc:248] Allocator (GPU_0_bfc) ran out of memory trying to allocate 18.67MiB with freed_by_count=0. The caller indicates that this is not a failure, but may mean that there could be performance gains if more memory were available.\n",
      "2022-08-01 22:16:58.555596: I tensorflow/stream_executor/cuda/cuda_driver.cc:789] failed to allocate 3.23G (3468361728 bytes) from device: CUDA_ERROR_OUT_OF_MEMORY: out of memory\n",
      "2022-08-01 22:16:58.555656: W tensorflow/core/common_runtime/bfc_allocator.cc:248] Allocator (GPU_0_bfc) ran out of memory trying to allocate 16.00MiB with freed_by_count=0. The caller indicates that this is not a failure, but may mean that there could be performance gains if more memory were available.\n",
      "2022-08-01 22:16:58.558182: I tensorflow/stream_executor/cuda/cuda_driver.cc:789] failed to allocate 3.23G (3468361728 bytes) from device: CUDA_ERROR_OUT_OF_MEMORY: out of memory\n",
      "2022-08-01 22:16:58.558235: W tensorflow/core/common_runtime/bfc_allocator.cc:248] Allocator (GPU_0_bfc) ran out of memory trying to allocate 16.21MiB with freed_by_count=0. The caller indicates that this is not a failure, but may mean that there could be performance gains if more memory were available.\n",
      "2022-08-01 22:16:58.559531: I tensorflow/stream_executor/cuda/cuda_driver.cc:789] failed to allocate 3.23G (3468361728 bytes) from device: CUDA_ERROR_OUT_OF_MEMORY: out of memory\n",
      "2022-08-01 22:16:58.559577: W tensorflow/core/common_runtime/bfc_allocator.cc:248] Allocator (GPU_0_bfc) ran out of memory trying to allocate 2.52GiB with freed_by_count=0. The caller indicates that this is not a failure, but may mean that there could be performance gains if more memory were available.\n",
      "2022-08-01 22:16:58.560858: I tensorflow/stream_executor/cuda/cuda_driver.cc:789] failed to allocate 3.23G (3468361728 bytes) from device: CUDA_ERROR_OUT_OF_MEMORY: out of memory\n",
      "2022-08-01 22:16:58.560903: W tensorflow/core/common_runtime/bfc_allocator.cc:248] Allocator (GPU_0_bfc) ran out of memory trying to allocate 18.67MiB with freed_by_count=0. The caller indicates that this is not a failure, but may mean that there could be performance gains if more memory were available.\n",
      "2022-08-01 22:16:58.686814: I tensorflow/stream_executor/cuda/cuda_driver.cc:789] failed to allocate 3.23G (3468361728 bytes) from device: CUDA_ERROR_OUT_OF_MEMORY: out of memory\n",
      "2022-08-01 22:16:58.688004: I tensorflow/stream_executor/cuda/cuda_driver.cc:789] failed to allocate 3.23G (3468361728 bytes) from device: CUDA_ERROR_OUT_OF_MEMORY: out of memory\n",
      "2022-08-01 22:16:58.688370: I tensorflow/stream_executor/cuda/cuda_driver.cc:789] failed to allocate 3.23G (3468361728 bytes) from device: CUDA_ERROR_OUT_OF_MEMORY: out of memory\n",
      "2022-08-01 22:16:58.688771: I tensorflow/stream_executor/cuda/cuda_driver.cc:789] failed to allocate 3.23G (3468361728 bytes) from device: CUDA_ERROR_OUT_OF_MEMORY: out of memory\n",
      "2022-08-01 22:16:58.689838: I tensorflow/stream_executor/cuda/cuda_driver.cc:789] failed to allocate 3.23G (3468361728 bytes) from device: CUDA_ERROR_OUT_OF_MEMORY: out of memory\n",
      "2022-08-01 22:16:58.690974: I tensorflow/stream_executor/cuda/cuda_driver.cc:789] failed to allocate 3.23G (3468361728 bytes) from device: CUDA_ERROR_OUT_OF_MEMORY: out of memory\n",
      "2022-08-01 22:16:58.691311: I tensorflow/stream_executor/cuda/cuda_driver.cc:789] failed to allocate 3.23G (3468361728 bytes) from device: CUDA_ERROR_OUT_OF_MEMORY: out of memory\n",
      "2022-08-01 22:16:58.691634: I tensorflow/stream_executor/cuda/cuda_driver.cc:789] failed to allocate 3.23G (3468361728 bytes) from device: CUDA_ERROR_OUT_OF_MEMORY: out of memory\n",
      "2022-08-01 22:16:58.692749: I tensorflow/stream_executor/cuda/cuda_driver.cc:789] failed to allocate 3.23G (3468361728 bytes) from device: CUDA_ERROR_OUT_OF_MEMORY: out of memory\n",
      "2022-08-01 22:16:58.693814: I tensorflow/stream_executor/cuda/cuda_driver.cc:789] failed to allocate 3.23G (3468361728 bytes) from device: CUDA_ERROR_OUT_OF_MEMORY: out of memory\n",
      "2022-08-01 22:16:58.694204: I tensorflow/stream_executor/cuda/cuda_driver.cc:789] failed to allocate 3.23G (3468361728 bytes) from device: CUDA_ERROR_OUT_OF_MEMORY: out of memory\n",
      "2022-08-01 22:16:58.694526: I tensorflow/stream_executor/cuda/cuda_driver.cc:789] failed to allocate 3.23G (3468361728 bytes) from device: CUDA_ERROR_OUT_OF_MEMORY: out of memory\n",
      "2022-08-01 22:16:58.832083: I tensorflow/stream_executor/cuda/cuda_driver.cc:789] failed to allocate 3.23G (3468361728 bytes) from device: CUDA_ERROR_OUT_OF_MEMORY: out of memory\n",
      "2022-08-01 22:16:58.833179: I tensorflow/stream_executor/cuda/cuda_driver.cc:789] failed to allocate 3.23G (3468361728 bytes) from device: CUDA_ERROR_OUT_OF_MEMORY: out of memory\n",
      "2022-08-01 22:16:58.833508: I tensorflow/stream_executor/cuda/cuda_driver.cc:789] failed to allocate 3.23G (3468361728 bytes) from device: CUDA_ERROR_OUT_OF_MEMORY: out of memory\n",
      "2022-08-01 22:16:58.833828: I tensorflow/stream_executor/cuda/cuda_driver.cc:789] failed to allocate 3.23G (3468361728 bytes) from device: CUDA_ERROR_OUT_OF_MEMORY: out of memory\n",
      "2022-08-01 22:16:58.834767: I tensorflow/stream_executor/cuda/cuda_driver.cc:789] failed to allocate 3.23G (3468361728 bytes) from device: CUDA_ERROR_OUT_OF_MEMORY: out of memory\n",
      "2022-08-01 22:16:58.835815: I tensorflow/stream_executor/cuda/cuda_driver.cc:789] failed to allocate 3.23G (3468361728 bytes) from device: CUDA_ERROR_OUT_OF_MEMORY: out of memory\n",
      "2022-08-01 22:16:58.836141: I tensorflow/stream_executor/cuda/cuda_driver.cc:789] failed to allocate 3.23G (3468361728 bytes) from device: CUDA_ERROR_OUT_OF_MEMORY: out of memory\n",
      "2022-08-01 22:16:58.836462: I tensorflow/stream_executor/cuda/cuda_driver.cc:789] failed to allocate 3.23G (3468361728 bytes) from device: CUDA_ERROR_OUT_OF_MEMORY: out of memory\n",
      "2022-08-01 22:16:58.837388: I tensorflow/stream_executor/cuda/cuda_driver.cc:789] failed to allocate 3.23G (3468361728 bytes) from device: CUDA_ERROR_OUT_OF_MEMORY: out of memory\n",
      "2022-08-01 22:16:58.839174: I tensorflow/stream_executor/cuda/cuda_driver.cc:789] failed to allocate 3.23G (3468361728 bytes) from device: CUDA_ERROR_OUT_OF_MEMORY: out of memory\n",
      "2022-08-01 22:16:58.840206: I tensorflow/stream_executor/cuda/cuda_driver.cc:789] failed to allocate 3.23G (3468361728 bytes) from device: CUDA_ERROR_OUT_OF_MEMORY: out of memory\n",
      "2022-08-01 22:16:58.840635: I tensorflow/stream_executor/cuda/cuda_driver.cc:789] failed to allocate 3.23G (3468361728 bytes) from device: CUDA_ERROR_OUT_OF_MEMORY: out of memory\n"
     ]
    },
    {
     "name": "stderr",
     "output_type": "stream",
     "text": [
      "2022-08-01 22:16:59.152502: I tensorflow/stream_executor/cuda/cuda_driver.cc:789] failed to allocate 3.23G (3468361728 bytes) from device: CUDA_ERROR_OUT_OF_MEMORY: out of memory\n",
      "2022-08-01 22:16:59.153594: I tensorflow/stream_executor/cuda/cuda_driver.cc:789] failed to allocate 3.23G (3468361728 bytes) from device: CUDA_ERROR_OUT_OF_MEMORY: out of memory\n",
      "2022-08-01 22:16:59.153925: I tensorflow/stream_executor/cuda/cuda_driver.cc:789] failed to allocate 3.23G (3468361728 bytes) from device: CUDA_ERROR_OUT_OF_MEMORY: out of memory\n",
      "2022-08-01 22:16:59.154247: I tensorflow/stream_executor/cuda/cuda_driver.cc:789] failed to allocate 3.23G (3468361728 bytes) from device: CUDA_ERROR_OUT_OF_MEMORY: out of memory\n",
      "2022-08-01 22:16:59.155264: I tensorflow/stream_executor/cuda/cuda_driver.cc:789] failed to allocate 3.23G (3468361728 bytes) from device: CUDA_ERROR_OUT_OF_MEMORY: out of memory\n",
      "2022-08-01 22:16:59.156310: I tensorflow/stream_executor/cuda/cuda_driver.cc:789] failed to allocate 3.23G (3468361728 bytes) from device: CUDA_ERROR_OUT_OF_MEMORY: out of memory\n",
      "2022-08-01 22:16:59.156634: I tensorflow/stream_executor/cuda/cuda_driver.cc:789] failed to allocate 3.23G (3468361728 bytes) from device: CUDA_ERROR_OUT_OF_MEMORY: out of memory\n",
      "2022-08-01 22:16:59.156953: I tensorflow/stream_executor/cuda/cuda_driver.cc:789] failed to allocate 3.23G (3468361728 bytes) from device: CUDA_ERROR_OUT_OF_MEMORY: out of memory\n",
      "2022-08-01 22:16:59.157871: I tensorflow/stream_executor/cuda/cuda_driver.cc:789] failed to allocate 3.23G (3468361728 bytes) from device: CUDA_ERROR_OUT_OF_MEMORY: out of memory\n",
      "2022-08-01 22:16:59.158978: I tensorflow/stream_executor/cuda/cuda_driver.cc:789] failed to allocate 3.23G (3468361728 bytes) from device: CUDA_ERROR_OUT_OF_MEMORY: out of memory\n",
      "2022-08-01 22:16:59.159303: I tensorflow/stream_executor/cuda/cuda_driver.cc:789] failed to allocate 3.23G (3468361728 bytes) from device: CUDA_ERROR_OUT_OF_MEMORY: out of memory\n",
      "2022-08-01 22:16:59.159622: I tensorflow/stream_executor/cuda/cuda_driver.cc:789] failed to allocate 3.23G (3468361728 bytes) from device: CUDA_ERROR_OUT_OF_MEMORY: out of memory\n",
      "2022-08-01 22:17:01.029176: I tensorflow/stream_executor/cuda/cuda_driver.cc:789] failed to allocate 3.23G (3468361728 bytes) from device: CUDA_ERROR_OUT_OF_MEMORY: out of memory\n",
      "2022-08-01 22:17:01.030408: I tensorflow/stream_executor/cuda/cuda_driver.cc:789] failed to allocate 3.23G (3468361728 bytes) from device: CUDA_ERROR_OUT_OF_MEMORY: out of memory\n",
      "2022-08-01 22:17:01.030742: I tensorflow/stream_executor/cuda/cuda_driver.cc:789] failed to allocate 3.23G (3468361728 bytes) from device: CUDA_ERROR_OUT_OF_MEMORY: out of memory\n",
      "2022-08-01 22:17:01.031061: I tensorflow/stream_executor/cuda/cuda_driver.cc:789] failed to allocate 3.23G (3468361728 bytes) from device: CUDA_ERROR_OUT_OF_MEMORY: out of memory\n",
      "2022-08-01 22:17:01.031995: I tensorflow/stream_executor/cuda/cuda_driver.cc:789] failed to allocate 3.23G (3468361728 bytes) from device: CUDA_ERROR_OUT_OF_MEMORY: out of memory\n",
      "2022-08-01 22:17:01.033108: I tensorflow/stream_executor/cuda/cuda_driver.cc:789] failed to allocate 3.23G (3468361728 bytes) from device: CUDA_ERROR_OUT_OF_MEMORY: out of memory\n",
      "2022-08-01 22:17:01.033432: I tensorflow/stream_executor/cuda/cuda_driver.cc:789] failed to allocate 3.23G (3468361728 bytes) from device: CUDA_ERROR_OUT_OF_MEMORY: out of memory\n",
      "2022-08-01 22:17:01.033749: I tensorflow/stream_executor/cuda/cuda_driver.cc:789] failed to allocate 3.23G (3468361728 bytes) from device: CUDA_ERROR_OUT_OF_MEMORY: out of memory\n",
      "2022-08-01 22:17:01.034657: I tensorflow/stream_executor/cuda/cuda_driver.cc:789] failed to allocate 3.23G (3468361728 bytes) from device: CUDA_ERROR_OUT_OF_MEMORY: out of memory\n",
      "2022-08-01 22:17:01.035773: I tensorflow/stream_executor/cuda/cuda_driver.cc:789] failed to allocate 3.23G (3468361728 bytes) from device: CUDA_ERROR_OUT_OF_MEMORY: out of memory\n",
      "2022-08-01 22:17:01.036097: I tensorflow/stream_executor/cuda/cuda_driver.cc:789] failed to allocate 3.23G (3468361728 bytes) from device: CUDA_ERROR_OUT_OF_MEMORY: out of memory\n",
      "2022-08-01 22:17:01.036415: I tensorflow/stream_executor/cuda/cuda_driver.cc:789] failed to allocate 3.23G (3468361728 bytes) from device: CUDA_ERROR_OUT_OF_MEMORY: out of memory\n",
      "2022-08-01 22:17:02.555645: I tensorflow/stream_executor/cuda/cuda_driver.cc:789] failed to allocate 3.23G (3468361728 bytes) from device: CUDA_ERROR_OUT_OF_MEMORY: out of memory\n",
      "2022-08-01 22:17:02.556807: I tensorflow/stream_executor/cuda/cuda_driver.cc:789] failed to allocate 3.23G (3468361728 bytes) from device: CUDA_ERROR_OUT_OF_MEMORY: out of memory\n",
      "2022-08-01 22:17:02.557142: I tensorflow/stream_executor/cuda/cuda_driver.cc:789] failed to allocate 3.23G (3468361728 bytes) from device: CUDA_ERROR_OUT_OF_MEMORY: out of memory\n",
      "2022-08-01 22:17:02.557468: I tensorflow/stream_executor/cuda/cuda_driver.cc:789] failed to allocate 3.23G (3468361728 bytes) from device: CUDA_ERROR_OUT_OF_MEMORY: out of memory\n",
      "2022-08-01 22:17:02.558451: I tensorflow/stream_executor/cuda/cuda_driver.cc:789] failed to allocate 3.23G (3468361728 bytes) from device: CUDA_ERROR_OUT_OF_MEMORY: out of memory\n",
      "2022-08-01 22:17:02.559574: I tensorflow/stream_executor/cuda/cuda_driver.cc:789] failed to allocate 3.23G (3468361728 bytes) from device: CUDA_ERROR_OUT_OF_MEMORY: out of memory\n",
      "2022-08-01 22:17:02.559904: I tensorflow/stream_executor/cuda/cuda_driver.cc:789] failed to allocate 3.23G (3468361728 bytes) from device: CUDA_ERROR_OUT_OF_MEMORY: out of memory\n",
      "2022-08-01 22:17:02.560229: I tensorflow/stream_executor/cuda/cuda_driver.cc:789] failed to allocate 3.23G (3468361728 bytes) from device: CUDA_ERROR_OUT_OF_MEMORY: out of memory\n",
      "2022-08-01 22:17:02.561185: I tensorflow/stream_executor/cuda/cuda_driver.cc:789] failed to allocate 3.23G (3468361728 bytes) from device: CUDA_ERROR_OUT_OF_MEMORY: out of memory\n",
      "2022-08-01 22:17:02.562314: I tensorflow/stream_executor/cuda/cuda_driver.cc:789] failed to allocate 3.23G (3468361728 bytes) from device: CUDA_ERROR_OUT_OF_MEMORY: out of memory\n",
      "2022-08-01 22:17:02.562644: I tensorflow/stream_executor/cuda/cuda_driver.cc:789] failed to allocate 3.23G (3468361728 bytes) from device: CUDA_ERROR_OUT_OF_MEMORY: out of memory\n",
      "2022-08-01 22:17:02.563010: I tensorflow/stream_executor/cuda/cuda_driver.cc:789] failed to allocate 3.23G (3468361728 bytes) from device: CUDA_ERROR_OUT_OF_MEMORY: out of memory\n",
      "2022-08-01 22:17:03.882042: I tensorflow/stream_executor/cuda/cuda_driver.cc:789] failed to allocate 3.23G (3468361728 bytes) from device: CUDA_ERROR_OUT_OF_MEMORY: out of memory\n",
      "2022-08-01 22:17:03.883219: I tensorflow/stream_executor/cuda/cuda_driver.cc:789] failed to allocate 3.23G (3468361728 bytes) from device: CUDA_ERROR_OUT_OF_MEMORY: out of memory\n",
      "2022-08-01 22:17:03.883557: I tensorflow/stream_executor/cuda/cuda_driver.cc:789] failed to allocate 3.23G (3468361728 bytes) from device: CUDA_ERROR_OUT_OF_MEMORY: out of memory\n",
      "2022-08-01 22:17:03.883886: I tensorflow/stream_executor/cuda/cuda_driver.cc:789] failed to allocate 3.23G (3468361728 bytes) from device: CUDA_ERROR_OUT_OF_MEMORY: out of memory\n",
      "2022-08-01 22:17:03.884841: I tensorflow/stream_executor/cuda/cuda_driver.cc:789] failed to allocate 3.23G (3468361728 bytes) from device: CUDA_ERROR_OUT_OF_MEMORY: out of memory\n",
      "2022-08-01 22:17:03.885957: I tensorflow/stream_executor/cuda/cuda_driver.cc:789] failed to allocate 3.23G (3468361728 bytes) from device: CUDA_ERROR_OUT_OF_MEMORY: out of memory\n",
      "2022-08-01 22:17:03.886290: I tensorflow/stream_executor/cuda/cuda_driver.cc:789] failed to allocate 3.23G (3468361728 bytes) from device: CUDA_ERROR_OUT_OF_MEMORY: out of memory\n",
      "2022-08-01 22:17:03.886619: I tensorflow/stream_executor/cuda/cuda_driver.cc:789] failed to allocate 3.23G (3468361728 bytes) from device: CUDA_ERROR_OUT_OF_MEMORY: out of memory\n",
      "2022-08-01 22:17:03.887585: I tensorflow/stream_executor/cuda/cuda_driver.cc:789] failed to allocate 3.23G (3468361728 bytes) from device: CUDA_ERROR_OUT_OF_MEMORY: out of memory\n",
      "2022-08-01 22:17:03.888706: I tensorflow/stream_executor/cuda/cuda_driver.cc:789] failed to allocate 3.23G (3468361728 bytes) from device: CUDA_ERROR_OUT_OF_MEMORY: out of memory\n",
      "2022-08-01 22:17:03.889038: I tensorflow/stream_executor/cuda/cuda_driver.cc:789] failed to allocate 3.23G (3468361728 bytes) from device: CUDA_ERROR_OUT_OF_MEMORY: out of memory\n",
      "2022-08-01 22:17:03.889410: I tensorflow/stream_executor/cuda/cuda_driver.cc:789] failed to allocate 3.23G (3468361728 bytes) from device: CUDA_ERROR_OUT_OF_MEMORY: out of memory\n",
      "2022-08-01 22:17:03.974838: I tensorflow/stream_executor/cuda/cuda_driver.cc:789] failed to allocate 3.23G (3468361728 bytes) from device: CUDA_ERROR_OUT_OF_MEMORY: out of memory\n",
      "2022-08-01 22:17:03.976004: I tensorflow/stream_executor/cuda/cuda_driver.cc:789] failed to allocate 3.23G (3468361728 bytes) from device: CUDA_ERROR_OUT_OF_MEMORY: out of memory\n",
      "2022-08-01 22:17:03.976340: I tensorflow/stream_executor/cuda/cuda_driver.cc:789] failed to allocate 3.23G (3468361728 bytes) from device: CUDA_ERROR_OUT_OF_MEMORY: out of memory\n",
      "2022-08-01 22:17:03.976670: I tensorflow/stream_executor/cuda/cuda_driver.cc:789] failed to allocate 3.23G (3468361728 bytes) from device: CUDA_ERROR_OUT_OF_MEMORY: out of memory\n",
      "2022-08-01 22:17:03.977597: I tensorflow/stream_executor/cuda/cuda_driver.cc:789] failed to allocate 3.23G (3468361728 bytes) from device: CUDA_ERROR_OUT_OF_MEMORY: out of memory\n",
      "2022-08-01 22:17:03.978709: I tensorflow/stream_executor/cuda/cuda_driver.cc:789] failed to allocate 3.23G (3468361728 bytes) from device: CUDA_ERROR_OUT_OF_MEMORY: out of memory\n",
      "2022-08-01 22:17:03.979079: I tensorflow/stream_executor/cuda/cuda_driver.cc:789] failed to allocate 3.23G (3468361728 bytes) from device: CUDA_ERROR_OUT_OF_MEMORY: out of memory\n",
      "2022-08-01 22:17:03.979407: I tensorflow/stream_executor/cuda/cuda_driver.cc:789] failed to allocate 3.23G (3468361728 bytes) from device: CUDA_ERROR_OUT_OF_MEMORY: out of memory\n",
      "2022-08-01 22:17:03.980354: I tensorflow/stream_executor/cuda/cuda_driver.cc:789] failed to allocate 3.23G (3468361728 bytes) from device: CUDA_ERROR_OUT_OF_MEMORY: out of memory\n",
      "2022-08-01 22:17:03.981485: I tensorflow/stream_executor/cuda/cuda_driver.cc:789] failed to allocate 3.23G (3468361728 bytes) from device: CUDA_ERROR_OUT_OF_MEMORY: out of memory\n",
      "2022-08-01 22:17:03.981816: I tensorflow/stream_executor/cuda/cuda_driver.cc:789] failed to allocate 3.23G (3468361728 bytes) from device: CUDA_ERROR_OUT_OF_MEMORY: out of memory\n",
      "2022-08-01 22:17:03.982144: I tensorflow/stream_executor/cuda/cuda_driver.cc:789] failed to allocate 3.23G (3468361728 bytes) from device: CUDA_ERROR_OUT_OF_MEMORY: out of memory\n"
     ]
    },
    {
     "name": "stderr",
     "output_type": "stream",
     "text": [
      "2022-08-01 22:17:04.822199: I tensorflow/stream_executor/cuda/cuda_driver.cc:789] failed to allocate 3.23G (3468361728 bytes) from device: CUDA_ERROR_OUT_OF_MEMORY: out of memory\n",
      "2022-08-01 22:17:04.823388: I tensorflow/stream_executor/cuda/cuda_driver.cc:789] failed to allocate 3.23G (3468361728 bytes) from device: CUDA_ERROR_OUT_OF_MEMORY: out of memory\n",
      "2022-08-01 22:17:04.823719: I tensorflow/stream_executor/cuda/cuda_driver.cc:789] failed to allocate 3.23G (3468361728 bytes) from device: CUDA_ERROR_OUT_OF_MEMORY: out of memory\n",
      "2022-08-01 22:17:04.824039: I tensorflow/stream_executor/cuda/cuda_driver.cc:789] failed to allocate 3.23G (3468361728 bytes) from device: CUDA_ERROR_OUT_OF_MEMORY: out of memory\n",
      "2022-08-01 22:17:04.825000: I tensorflow/stream_executor/cuda/cuda_driver.cc:789] failed to allocate 3.23G (3468361728 bytes) from device: CUDA_ERROR_OUT_OF_MEMORY: out of memory\n",
      "2022-08-01 22:17:04.826124: I tensorflow/stream_executor/cuda/cuda_driver.cc:789] failed to allocate 3.23G (3468361728 bytes) from device: CUDA_ERROR_OUT_OF_MEMORY: out of memory\n",
      "2022-08-01 22:17:04.826450: I tensorflow/stream_executor/cuda/cuda_driver.cc:789] failed to allocate 3.23G (3468361728 bytes) from device: CUDA_ERROR_OUT_OF_MEMORY: out of memory\n",
      "2022-08-01 22:17:04.826844: I tensorflow/stream_executor/cuda/cuda_driver.cc:789] failed to allocate 3.23G (3468361728 bytes) from device: CUDA_ERROR_OUT_OF_MEMORY: out of memory\n",
      "2022-08-01 22:17:04.827846: I tensorflow/stream_executor/cuda/cuda_driver.cc:789] failed to allocate 3.23G (3468361728 bytes) from device: CUDA_ERROR_OUT_OF_MEMORY: out of memory\n",
      "2022-08-01 22:17:04.829128: I tensorflow/stream_executor/cuda/cuda_driver.cc:789] failed to allocate 3.23G (3468361728 bytes) from device: CUDA_ERROR_OUT_OF_MEMORY: out of memory\n",
      "2022-08-01 22:17:04.829457: I tensorflow/stream_executor/cuda/cuda_driver.cc:789] failed to allocate 3.23G (3468361728 bytes) from device: CUDA_ERROR_OUT_OF_MEMORY: out of memory\n",
      "2022-08-01 22:17:04.829776: I tensorflow/stream_executor/cuda/cuda_driver.cc:789] failed to allocate 3.23G (3468361728 bytes) from device: CUDA_ERROR_OUT_OF_MEMORY: out of memory\n",
      "2022-08-01 22:17:05.585218: I tensorflow/stream_executor/cuda/cuda_driver.cc:789] failed to allocate 3.23G (3468361728 bytes) from device: CUDA_ERROR_OUT_OF_MEMORY: out of memory\n",
      "2022-08-01 22:17:05.586377: I tensorflow/stream_executor/cuda/cuda_driver.cc:789] failed to allocate 3.23G (3468361728 bytes) from device: CUDA_ERROR_OUT_OF_MEMORY: out of memory\n",
      "2022-08-01 22:17:05.586707: I tensorflow/stream_executor/cuda/cuda_driver.cc:789] failed to allocate 3.23G (3468361728 bytes) from device: CUDA_ERROR_OUT_OF_MEMORY: out of memory\n",
      "2022-08-01 22:17:05.587032: I tensorflow/stream_executor/cuda/cuda_driver.cc:789] failed to allocate 3.23G (3468361728 bytes) from device: CUDA_ERROR_OUT_OF_MEMORY: out of memory\n",
      "2022-08-01 22:17:05.587977: I tensorflow/stream_executor/cuda/cuda_driver.cc:789] failed to allocate 3.23G (3468361728 bytes) from device: CUDA_ERROR_OUT_OF_MEMORY: out of memory\n",
      "2022-08-01 22:17:05.589117: I tensorflow/stream_executor/cuda/cuda_driver.cc:789] failed to allocate 3.23G (3468361728 bytes) from device: CUDA_ERROR_OUT_OF_MEMORY: out of memory\n",
      "2022-08-01 22:17:05.589453: I tensorflow/stream_executor/cuda/cuda_driver.cc:789] failed to allocate 3.23G (3468361728 bytes) from device: CUDA_ERROR_OUT_OF_MEMORY: out of memory\n",
      "2022-08-01 22:17:05.589774: I tensorflow/stream_executor/cuda/cuda_driver.cc:789] failed to allocate 3.23G (3468361728 bytes) from device: CUDA_ERROR_OUT_OF_MEMORY: out of memory\n",
      "2022-08-01 22:17:05.590693: I tensorflow/stream_executor/cuda/cuda_driver.cc:789] failed to allocate 3.23G (3468361728 bytes) from device: CUDA_ERROR_OUT_OF_MEMORY: out of memory\n",
      "2022-08-01 22:17:05.591859: I tensorflow/stream_executor/cuda/cuda_driver.cc:789] failed to allocate 3.23G (3468361728 bytes) from device: CUDA_ERROR_OUT_OF_MEMORY: out of memory\n",
      "2022-08-01 22:17:05.592183: I tensorflow/stream_executor/cuda/cuda_driver.cc:789] failed to allocate 3.23G (3468361728 bytes) from device: CUDA_ERROR_OUT_OF_MEMORY: out of memory\n",
      "2022-08-01 22:17:05.592502: I tensorflow/stream_executor/cuda/cuda_driver.cc:789] failed to allocate 3.23G (3468361728 bytes) from device: CUDA_ERROR_OUT_OF_MEMORY: out of memory\n",
      "2022-08-01 22:17:06.867458: I tensorflow/stream_executor/cuda/cuda_driver.cc:789] failed to allocate 3.23G (3468361728 bytes) from device: CUDA_ERROR_OUT_OF_MEMORY: out of memory\n",
      "2022-08-01 22:17:06.868649: I tensorflow/stream_executor/cuda/cuda_driver.cc:789] failed to allocate 3.23G (3468361728 bytes) from device: CUDA_ERROR_OUT_OF_MEMORY: out of memory\n",
      "2022-08-01 22:17:06.868994: I tensorflow/stream_executor/cuda/cuda_driver.cc:789] failed to allocate 3.23G (3468361728 bytes) from device: CUDA_ERROR_OUT_OF_MEMORY: out of memory\n",
      "2022-08-01 22:17:06.869348: I tensorflow/stream_executor/cuda/cuda_driver.cc:789] failed to allocate 3.23G (3468361728 bytes) from device: CUDA_ERROR_OUT_OF_MEMORY: out of memory\n",
      "2022-08-01 22:17:06.870373: I tensorflow/stream_executor/cuda/cuda_driver.cc:789] failed to allocate 3.23G (3468361728 bytes) from device: CUDA_ERROR_OUT_OF_MEMORY: out of memory\n",
      "2022-08-01 22:17:06.871547: I tensorflow/stream_executor/cuda/cuda_driver.cc:789] failed to allocate 3.23G (3468361728 bytes) from device: CUDA_ERROR_OUT_OF_MEMORY: out of memory\n",
      "2022-08-01 22:17:06.871873: I tensorflow/stream_executor/cuda/cuda_driver.cc:789] failed to allocate 3.23G (3468361728 bytes) from device: CUDA_ERROR_OUT_OF_MEMORY: out of memory\n",
      "2022-08-01 22:17:06.872193: I tensorflow/stream_executor/cuda/cuda_driver.cc:789] failed to allocate 3.23G (3468361728 bytes) from device: CUDA_ERROR_OUT_OF_MEMORY: out of memory\n",
      "2022-08-01 22:17:06.873146: I tensorflow/stream_executor/cuda/cuda_driver.cc:789] failed to allocate 3.23G (3468361728 bytes) from device: CUDA_ERROR_OUT_OF_MEMORY: out of memory\n",
      "2022-08-01 22:17:06.874280: I tensorflow/stream_executor/cuda/cuda_driver.cc:789] failed to allocate 3.23G (3468361728 bytes) from device: CUDA_ERROR_OUT_OF_MEMORY: out of memory\n",
      "2022-08-01 22:17:06.874606: I tensorflow/stream_executor/cuda/cuda_driver.cc:789] failed to allocate 3.23G (3468361728 bytes) from device: CUDA_ERROR_OUT_OF_MEMORY: out of memory\n",
      "2022-08-01 22:17:06.874986: I tensorflow/stream_executor/cuda/cuda_driver.cc:789] failed to allocate 3.23G (3468361728 bytes) from device: CUDA_ERROR_OUT_OF_MEMORY: out of memory\n",
      "2022-08-01 22:17:15.874152: I tensorflow/stream_executor/cuda/cuda_driver.cc:789] failed to allocate 3.23G (3468361728 bytes) from device: CUDA_ERROR_OUT_OF_MEMORY: out of memory\n",
      "2022-08-01 22:17:15.875316: I tensorflow/stream_executor/cuda/cuda_driver.cc:789] failed to allocate 3.23G (3468361728 bytes) from device: CUDA_ERROR_OUT_OF_MEMORY: out of memory\n",
      "2022-08-01 22:17:15.875645: I tensorflow/stream_executor/cuda/cuda_driver.cc:789] failed to allocate 3.23G (3468361728 bytes) from device: CUDA_ERROR_OUT_OF_MEMORY: out of memory\n",
      "2022-08-01 22:17:15.875964: I tensorflow/stream_executor/cuda/cuda_driver.cc:789] failed to allocate 3.23G (3468361728 bytes) from device: CUDA_ERROR_OUT_OF_MEMORY: out of memory\n",
      "2022-08-01 22:17:15.876904: I tensorflow/stream_executor/cuda/cuda_driver.cc:789] failed to allocate 3.23G (3468361728 bytes) from device: CUDA_ERROR_OUT_OF_MEMORY: out of memory\n",
      "2022-08-01 22:17:15.878015: I tensorflow/stream_executor/cuda/cuda_driver.cc:789] failed to allocate 3.23G (3468361728 bytes) from device: CUDA_ERROR_OUT_OF_MEMORY: out of memory\n",
      "2022-08-01 22:17:15.878338: I tensorflow/stream_executor/cuda/cuda_driver.cc:789] failed to allocate 3.23G (3468361728 bytes) from device: CUDA_ERROR_OUT_OF_MEMORY: out of memory\n",
      "2022-08-01 22:17:15.878656: I tensorflow/stream_executor/cuda/cuda_driver.cc:789] failed to allocate 3.23G (3468361728 bytes) from device: CUDA_ERROR_OUT_OF_MEMORY: out of memory\n",
      "2022-08-01 22:17:15.879660: I tensorflow/stream_executor/cuda/cuda_driver.cc:789] failed to allocate 3.23G (3468361728 bytes) from device: CUDA_ERROR_OUT_OF_MEMORY: out of memory\n",
      "2022-08-01 22:17:15.880782: I tensorflow/stream_executor/cuda/cuda_driver.cc:789] failed to allocate 3.23G (3468361728 bytes) from device: CUDA_ERROR_OUT_OF_MEMORY: out of memory\n",
      "2022-08-01 22:17:15.881105: I tensorflow/stream_executor/cuda/cuda_driver.cc:789] failed to allocate 3.23G (3468361728 bytes) from device: CUDA_ERROR_OUT_OF_MEMORY: out of memory\n",
      "2022-08-01 22:17:15.881424: I tensorflow/stream_executor/cuda/cuda_driver.cc:789] failed to allocate 3.23G (3468361728 bytes) from device: CUDA_ERROR_OUT_OF_MEMORY: out of memory\n"
     ]
    },
    {
     "name": "stderr",
     "output_type": "stream",
     "text": [
      "2022-08-01 22:17:22.393243: I tensorflow/stream_executor/cuda/cuda_driver.cc:789] failed to allocate 3.23G (3468361728 bytes) from device: CUDA_ERROR_OUT_OF_MEMORY: out of memory\n",
      "2022-08-01 22:17:22.394407: I tensorflow/stream_executor/cuda/cuda_driver.cc:789] failed to allocate 3.23G (3468361728 bytes) from device: CUDA_ERROR_OUT_OF_MEMORY: out of memory\n",
      "2022-08-01 22:17:22.394741: I tensorflow/stream_executor/cuda/cuda_driver.cc:789] failed to allocate 3.23G (3468361728 bytes) from device: CUDA_ERROR_OUT_OF_MEMORY: out of memory\n",
      "2022-08-01 22:17:22.395063: I tensorflow/stream_executor/cuda/cuda_driver.cc:789] failed to allocate 3.23G (3468361728 bytes) from device: CUDA_ERROR_OUT_OF_MEMORY: out of memory\n",
      "2022-08-01 22:17:22.396053: I tensorflow/stream_executor/cuda/cuda_driver.cc:789] failed to allocate 3.23G (3468361728 bytes) from device: CUDA_ERROR_OUT_OF_MEMORY: out of memory\n",
      "2022-08-01 22:17:22.397169: I tensorflow/stream_executor/cuda/cuda_driver.cc:789] failed to allocate 3.23G (3468361728 bytes) from device: CUDA_ERROR_OUT_OF_MEMORY: out of memory\n",
      "2022-08-01 22:17:22.397492: I tensorflow/stream_executor/cuda/cuda_driver.cc:789] failed to allocate 3.23G (3468361728 bytes) from device: CUDA_ERROR_OUT_OF_MEMORY: out of memory\n",
      "2022-08-01 22:17:22.397813: I tensorflow/stream_executor/cuda/cuda_driver.cc:789] failed to allocate 3.23G (3468361728 bytes) from device: CUDA_ERROR_OUT_OF_MEMORY: out of memory\n",
      "2022-08-01 22:17:22.398733: I tensorflow/stream_executor/cuda/cuda_driver.cc:789] failed to allocate 3.23G (3468361728 bytes) from device: CUDA_ERROR_OUT_OF_MEMORY: out of memory\n",
      "2022-08-01 22:17:22.399851: I tensorflow/stream_executor/cuda/cuda_driver.cc:789] failed to allocate 3.23G (3468361728 bytes) from device: CUDA_ERROR_OUT_OF_MEMORY: out of memory\n",
      "2022-08-01 22:17:22.400174: I tensorflow/stream_executor/cuda/cuda_driver.cc:789] failed to allocate 3.23G (3468361728 bytes) from device: CUDA_ERROR_OUT_OF_MEMORY: out of memory\n",
      "2022-08-01 22:17:22.400494: I tensorflow/stream_executor/cuda/cuda_driver.cc:789] failed to allocate 3.23G (3468361728 bytes) from device: CUDA_ERROR_OUT_OF_MEMORY: out of memory\n",
      "2022-08-01 22:17:53.946038: I tensorflow/stream_executor/cuda/cuda_driver.cc:789] failed to allocate 3.23G (3468361728 bytes) from device: CUDA_ERROR_OUT_OF_MEMORY: out of memory\n",
      "2022-08-01 22:17:53.947284: I tensorflow/stream_executor/cuda/cuda_driver.cc:789] failed to allocate 3.23G (3468361728 bytes) from device: CUDA_ERROR_OUT_OF_MEMORY: out of memory\n",
      "2022-08-01 22:17:53.947636: I tensorflow/stream_executor/cuda/cuda_driver.cc:789] failed to allocate 3.23G (3468361728 bytes) from device: CUDA_ERROR_OUT_OF_MEMORY: out of memory\n",
      "2022-08-01 22:17:53.947979: I tensorflow/stream_executor/cuda/cuda_driver.cc:789] failed to allocate 3.23G (3468361728 bytes) from device: CUDA_ERROR_OUT_OF_MEMORY: out of memory\n",
      "2022-08-01 22:17:53.949309: I tensorflow/stream_executor/cuda/cuda_driver.cc:789] failed to allocate 3.23G (3468361728 bytes) from device: CUDA_ERROR_OUT_OF_MEMORY: out of memory\n",
      "2022-08-01 22:17:53.950502: I tensorflow/stream_executor/cuda/cuda_driver.cc:789] failed to allocate 3.23G (3468361728 bytes) from device: CUDA_ERROR_OUT_OF_MEMORY: out of memory\n",
      "2022-08-01 22:17:53.950844: I tensorflow/stream_executor/cuda/cuda_driver.cc:789] failed to allocate 3.23G (3468361728 bytes) from device: CUDA_ERROR_OUT_OF_MEMORY: out of memory\n",
      "2022-08-01 22:17:53.951173: I tensorflow/stream_executor/cuda/cuda_driver.cc:789] failed to allocate 3.23G (3468361728 bytes) from device: CUDA_ERROR_OUT_OF_MEMORY: out of memory\n",
      "2022-08-01 22:17:53.952146: I tensorflow/stream_executor/cuda/cuda_driver.cc:789] failed to allocate 3.23G (3468361728 bytes) from device: CUDA_ERROR_OUT_OF_MEMORY: out of memory\n",
      "2022-08-01 22:17:53.953290: I tensorflow/stream_executor/cuda/cuda_driver.cc:789] failed to allocate 3.23G (3468361728 bytes) from device: CUDA_ERROR_OUT_OF_MEMORY: out of memory\n",
      "2022-08-01 22:17:53.953623: I tensorflow/stream_executor/cuda/cuda_driver.cc:789] failed to allocate 3.23G (3468361728 bytes) from device: CUDA_ERROR_OUT_OF_MEMORY: out of memory\n",
      "2022-08-01 22:17:53.953947: I tensorflow/stream_executor/cuda/cuda_driver.cc:789] failed to allocate 3.23G (3468361728 bytes) from device: CUDA_ERROR_OUT_OF_MEMORY: out of memory\n",
      "2022-08-01 22:17:55.773268: I tensorflow/stream_executor/cuda/cuda_driver.cc:789] failed to allocate 3.23G (3468361728 bytes) from device: CUDA_ERROR_OUT_OF_MEMORY: out of memory\n",
      "2022-08-01 22:17:55.774437: I tensorflow/stream_executor/cuda/cuda_driver.cc:789] failed to allocate 3.23G (3468361728 bytes) from device: CUDA_ERROR_OUT_OF_MEMORY: out of memory\n",
      "2022-08-01 22:17:55.774815: I tensorflow/stream_executor/cuda/cuda_driver.cc:789] failed to allocate 3.23G (3468361728 bytes) from device: CUDA_ERROR_OUT_OF_MEMORY: out of memory\n",
      "2022-08-01 22:17:55.775151: I tensorflow/stream_executor/cuda/cuda_driver.cc:789] failed to allocate 3.23G (3468361728 bytes) from device: CUDA_ERROR_OUT_OF_MEMORY: out of memory\n",
      "2022-08-01 22:17:55.776103: I tensorflow/stream_executor/cuda/cuda_driver.cc:789] failed to allocate 3.23G (3468361728 bytes) from device: CUDA_ERROR_OUT_OF_MEMORY: out of memory\n",
      "2022-08-01 22:17:55.777220: I tensorflow/stream_executor/cuda/cuda_driver.cc:789] failed to allocate 3.23G (3468361728 bytes) from device: CUDA_ERROR_OUT_OF_MEMORY: out of memory\n",
      "2022-08-01 22:17:55.777544: I tensorflow/stream_executor/cuda/cuda_driver.cc:789] failed to allocate 3.23G (3468361728 bytes) from device: CUDA_ERROR_OUT_OF_MEMORY: out of memory\n",
      "2022-08-01 22:17:55.777877: I tensorflow/stream_executor/cuda/cuda_driver.cc:789] failed to allocate 3.23G (3468361728 bytes) from device: CUDA_ERROR_OUT_OF_MEMORY: out of memory\n",
      "2022-08-01 22:17:55.778817: I tensorflow/stream_executor/cuda/cuda_driver.cc:789] failed to allocate 3.23G (3468361728 bytes) from device: CUDA_ERROR_OUT_OF_MEMORY: out of memory\n",
      "2022-08-01 22:17:55.779938: I tensorflow/stream_executor/cuda/cuda_driver.cc:789] failed to allocate 3.23G (3468361728 bytes) from device: CUDA_ERROR_OUT_OF_MEMORY: out of memory\n",
      "2022-08-01 22:17:55.780262: I tensorflow/stream_executor/cuda/cuda_driver.cc:789] failed to allocate 3.23G (3468361728 bytes) from device: CUDA_ERROR_OUT_OF_MEMORY: out of memory\n",
      "2022-08-01 22:17:55.780581: I tensorflow/stream_executor/cuda/cuda_driver.cc:789] failed to allocate 3.23G (3468361728 bytes) from device: CUDA_ERROR_OUT_OF_MEMORY: out of memory\n",
      "2022-08-01 22:18:14.187777: I tensorflow/stream_executor/cuda/cuda_driver.cc:789] failed to allocate 3.23G (3468361728 bytes) from device: CUDA_ERROR_OUT_OF_MEMORY: out of memory\n",
      "2022-08-01 22:18:14.188979: I tensorflow/stream_executor/cuda/cuda_driver.cc:789] failed to allocate 3.23G (3468361728 bytes) from device: CUDA_ERROR_OUT_OF_MEMORY: out of memory\n",
      "2022-08-01 22:18:14.189308: I tensorflow/stream_executor/cuda/cuda_driver.cc:789] failed to allocate 3.23G (3468361728 bytes) from device: CUDA_ERROR_OUT_OF_MEMORY: out of memory\n",
      "2022-08-01 22:18:14.189634: I tensorflow/stream_executor/cuda/cuda_driver.cc:789] failed to allocate 3.23G (3468361728 bytes) from device: CUDA_ERROR_OUT_OF_MEMORY: out of memory\n",
      "2022-08-01 22:18:14.190569: I tensorflow/stream_executor/cuda/cuda_driver.cc:789] failed to allocate 3.23G (3468361728 bytes) from device: CUDA_ERROR_OUT_OF_MEMORY: out of memory\n",
      "2022-08-01 22:18:14.191755: I tensorflow/stream_executor/cuda/cuda_driver.cc:789] failed to allocate 3.23G (3468361728 bytes) from device: CUDA_ERROR_OUT_OF_MEMORY: out of memory\n",
      "2022-08-01 22:18:14.192132: I tensorflow/stream_executor/cuda/cuda_driver.cc:789] failed to allocate 3.23G (3468361728 bytes) from device: CUDA_ERROR_OUT_OF_MEMORY: out of memory\n",
      "2022-08-01 22:18:14.192462: I tensorflow/stream_executor/cuda/cuda_driver.cc:789] failed to allocate 3.23G (3468361728 bytes) from device: CUDA_ERROR_OUT_OF_MEMORY: out of memory\n",
      "2022-08-01 22:18:14.193444: I tensorflow/stream_executor/cuda/cuda_driver.cc:789] failed to allocate 3.23G (3468361728 bytes) from device: CUDA_ERROR_OUT_OF_MEMORY: out of memory\n",
      "2022-08-01 22:18:14.194572: I tensorflow/stream_executor/cuda/cuda_driver.cc:789] failed to allocate 3.23G (3468361728 bytes) from device: CUDA_ERROR_OUT_OF_MEMORY: out of memory\n",
      "2022-08-01 22:18:14.194949: I tensorflow/stream_executor/cuda/cuda_driver.cc:789] failed to allocate 3.23G (3468361728 bytes) from device: CUDA_ERROR_OUT_OF_MEMORY: out of memory\n",
      "2022-08-01 22:18:14.195269: I tensorflow/stream_executor/cuda/cuda_driver.cc:789] failed to allocate 3.23G (3468361728 bytes) from device: CUDA_ERROR_OUT_OF_MEMORY: out of memory\n"
     ]
    },
    {
     "name": "stderr",
     "output_type": "stream",
     "text": [
      "2022-08-01 22:18:14.681849: I tensorflow/stream_executor/cuda/cuda_driver.cc:789] failed to allocate 3.23G (3468361728 bytes) from device: CUDA_ERROR_OUT_OF_MEMORY: out of memory\n",
      "2022-08-01 22:18:14.683102: I tensorflow/stream_executor/cuda/cuda_driver.cc:789] failed to allocate 3.23G (3468361728 bytes) from device: CUDA_ERROR_OUT_OF_MEMORY: out of memory\n",
      "2022-08-01 22:18:14.683431: I tensorflow/stream_executor/cuda/cuda_driver.cc:789] failed to allocate 3.23G (3468361728 bytes) from device: CUDA_ERROR_OUT_OF_MEMORY: out of memory\n",
      "2022-08-01 22:18:14.683751: I tensorflow/stream_executor/cuda/cuda_driver.cc:789] failed to allocate 3.23G (3468361728 bytes) from device: CUDA_ERROR_OUT_OF_MEMORY: out of memory\n",
      "2022-08-01 22:18:14.684736: I tensorflow/stream_executor/cuda/cuda_driver.cc:789] failed to allocate 3.23G (3468361728 bytes) from device: CUDA_ERROR_OUT_OF_MEMORY: out of memory\n",
      "2022-08-01 22:18:14.685845: I tensorflow/stream_executor/cuda/cuda_driver.cc:789] failed to allocate 3.23G (3468361728 bytes) from device: CUDA_ERROR_OUT_OF_MEMORY: out of memory\n",
      "2022-08-01 22:18:14.686168: I tensorflow/stream_executor/cuda/cuda_driver.cc:789] failed to allocate 3.23G (3468361728 bytes) from device: CUDA_ERROR_OUT_OF_MEMORY: out of memory\n",
      "2022-08-01 22:18:14.686487: I tensorflow/stream_executor/cuda/cuda_driver.cc:789] failed to allocate 3.23G (3468361728 bytes) from device: CUDA_ERROR_OUT_OF_MEMORY: out of memory\n",
      "2022-08-01 22:18:14.687411: I tensorflow/stream_executor/cuda/cuda_driver.cc:789] failed to allocate 3.23G (3468361728 bytes) from device: CUDA_ERROR_OUT_OF_MEMORY: out of memory\n",
      "2022-08-01 22:18:14.688532: I tensorflow/stream_executor/cuda/cuda_driver.cc:789] failed to allocate 3.23G (3468361728 bytes) from device: CUDA_ERROR_OUT_OF_MEMORY: out of memory\n",
      "2022-08-01 22:18:14.688854: I tensorflow/stream_executor/cuda/cuda_driver.cc:789] failed to allocate 3.23G (3468361728 bytes) from device: CUDA_ERROR_OUT_OF_MEMORY: out of memory\n",
      "2022-08-01 22:18:14.689173: I tensorflow/stream_executor/cuda/cuda_driver.cc:789] failed to allocate 3.23G (3468361728 bytes) from device: CUDA_ERROR_OUT_OF_MEMORY: out of memory\n",
      "2022-08-01 22:18:38.009615: I tensorflow/stream_executor/cuda/cuda_driver.cc:789] failed to allocate 3.23G (3468361728 bytes) from device: CUDA_ERROR_OUT_OF_MEMORY: out of memory\n",
      "2022-08-01 22:18:38.010963: I tensorflow/stream_executor/cuda/cuda_driver.cc:789] failed to allocate 3.23G (3468361728 bytes) from device: CUDA_ERROR_OUT_OF_MEMORY: out of memory\n",
      "2022-08-01 22:18:38.011309: I tensorflow/stream_executor/cuda/cuda_driver.cc:789] failed to allocate 3.23G (3468361728 bytes) from device: CUDA_ERROR_OUT_OF_MEMORY: out of memory\n",
      "2022-08-01 22:18:38.011643: I tensorflow/stream_executor/cuda/cuda_driver.cc:789] failed to allocate 3.23G (3468361728 bytes) from device: CUDA_ERROR_OUT_OF_MEMORY: out of memory\n",
      "2022-08-01 22:18:38.012593: I tensorflow/stream_executor/cuda/cuda_driver.cc:789] failed to allocate 3.23G (3468361728 bytes) from device: CUDA_ERROR_OUT_OF_MEMORY: out of memory\n",
      "2022-08-01 22:18:38.013700: I tensorflow/stream_executor/cuda/cuda_driver.cc:789] failed to allocate 3.23G (3468361728 bytes) from device: CUDA_ERROR_OUT_OF_MEMORY: out of memory\n",
      "2022-08-01 22:18:38.014036: I tensorflow/stream_executor/cuda/cuda_driver.cc:789] failed to allocate 3.23G (3468361728 bytes) from device: CUDA_ERROR_OUT_OF_MEMORY: out of memory\n",
      "2022-08-01 22:18:38.014367: I tensorflow/stream_executor/cuda/cuda_driver.cc:789] failed to allocate 3.23G (3468361728 bytes) from device: CUDA_ERROR_OUT_OF_MEMORY: out of memory\n",
      "2022-08-01 22:18:38.015324: I tensorflow/stream_executor/cuda/cuda_driver.cc:789] failed to allocate 3.23G (3468361728 bytes) from device: CUDA_ERROR_OUT_OF_MEMORY: out of memory\n",
      "2022-08-01 22:18:38.016445: I tensorflow/stream_executor/cuda/cuda_driver.cc:789] failed to allocate 3.23G (3468361728 bytes) from device: CUDA_ERROR_OUT_OF_MEMORY: out of memory\n",
      "2022-08-01 22:18:38.016781: I tensorflow/stream_executor/cuda/cuda_driver.cc:789] failed to allocate 3.23G (3468361728 bytes) from device: CUDA_ERROR_OUT_OF_MEMORY: out of memory\n",
      "2022-08-01 22:18:38.017112: I tensorflow/stream_executor/cuda/cuda_driver.cc:789] failed to allocate 3.23G (3468361728 bytes) from device: CUDA_ERROR_OUT_OF_MEMORY: out of memory\n",
      "2022-08-01 22:18:50.672832: I tensorflow/stream_executor/cuda/cuda_driver.cc:789] failed to allocate 3.23G (3468361728 bytes) from device: CUDA_ERROR_OUT_OF_MEMORY: out of memory\n",
      "2022-08-01 22:18:50.674007: I tensorflow/stream_executor/cuda/cuda_driver.cc:789] failed to allocate 3.23G (3468361728 bytes) from device: CUDA_ERROR_OUT_OF_MEMORY: out of memory\n",
      "2022-08-01 22:18:50.674336: I tensorflow/stream_executor/cuda/cuda_driver.cc:789] failed to allocate 3.23G (3468361728 bytes) from device: CUDA_ERROR_OUT_OF_MEMORY: out of memory\n",
      "2022-08-01 22:18:50.674653: I tensorflow/stream_executor/cuda/cuda_driver.cc:789] failed to allocate 3.23G (3468361728 bytes) from device: CUDA_ERROR_OUT_OF_MEMORY: out of memory\n",
      "2022-08-01 22:18:50.675608: I tensorflow/stream_executor/cuda/cuda_driver.cc:789] failed to allocate 3.23G (3468361728 bytes) from device: CUDA_ERROR_OUT_OF_MEMORY: out of memory\n",
      "2022-08-01 22:18:50.676771: I tensorflow/stream_executor/cuda/cuda_driver.cc:789] failed to allocate 3.23G (3468361728 bytes) from device: CUDA_ERROR_OUT_OF_MEMORY: out of memory\n",
      "2022-08-01 22:18:50.677093: I tensorflow/stream_executor/cuda/cuda_driver.cc:789] failed to allocate 3.23G (3468361728 bytes) from device: CUDA_ERROR_OUT_OF_MEMORY: out of memory\n",
      "2022-08-01 22:18:50.677410: I tensorflow/stream_executor/cuda/cuda_driver.cc:789] failed to allocate 3.23G (3468361728 bytes) from device: CUDA_ERROR_OUT_OF_MEMORY: out of memory\n",
      "2022-08-01 22:18:50.678327: I tensorflow/stream_executor/cuda/cuda_driver.cc:789] failed to allocate 3.23G (3468361728 bytes) from device: CUDA_ERROR_OUT_OF_MEMORY: out of memory\n",
      "2022-08-01 22:18:50.679451: I tensorflow/stream_executor/cuda/cuda_driver.cc:789] failed to allocate 3.23G (3468361728 bytes) from device: CUDA_ERROR_OUT_OF_MEMORY: out of memory\n",
      "2022-08-01 22:18:50.679772: I tensorflow/stream_executor/cuda/cuda_driver.cc:789] failed to allocate 3.23G (3468361728 bytes) from device: CUDA_ERROR_OUT_OF_MEMORY: out of memory\n",
      "2022-08-01 22:18:50.680090: I tensorflow/stream_executor/cuda/cuda_driver.cc:789] failed to allocate 3.23G (3468361728 bytes) from device: CUDA_ERROR_OUT_OF_MEMORY: out of memory\n",
      "2022-08-01 22:20:28.376859: I tensorflow/stream_executor/cuda/cuda_driver.cc:789] failed to allocate 3.23G (3468361728 bytes) from device: CUDA_ERROR_OUT_OF_MEMORY: out of memory\n",
      "2022-08-01 22:20:28.378080: I tensorflow/stream_executor/cuda/cuda_driver.cc:789] failed to allocate 3.23G (3468361728 bytes) from device: CUDA_ERROR_OUT_OF_MEMORY: out of memory\n",
      "2022-08-01 22:20:28.378421: I tensorflow/stream_executor/cuda/cuda_driver.cc:789] failed to allocate 3.23G (3468361728 bytes) from device: CUDA_ERROR_OUT_OF_MEMORY: out of memory\n",
      "2022-08-01 22:20:28.378765: I tensorflow/stream_executor/cuda/cuda_driver.cc:789] failed to allocate 3.23G (3468361728 bytes) from device: CUDA_ERROR_OUT_OF_MEMORY: out of memory\n",
      "2022-08-01 22:20:28.379831: I tensorflow/stream_executor/cuda/cuda_driver.cc:789] failed to allocate 3.23G (3468361728 bytes) from device: CUDA_ERROR_OUT_OF_MEMORY: out of memory\n",
      "2022-08-01 22:20:28.380987: I tensorflow/stream_executor/cuda/cuda_driver.cc:789] failed to allocate 3.23G (3468361728 bytes) from device: CUDA_ERROR_OUT_OF_MEMORY: out of memory\n",
      "2022-08-01 22:20:28.381322: I tensorflow/stream_executor/cuda/cuda_driver.cc:789] failed to allocate 3.23G (3468361728 bytes) from device: CUDA_ERROR_OUT_OF_MEMORY: out of memory\n",
      "2022-08-01 22:20:28.381650: I tensorflow/stream_executor/cuda/cuda_driver.cc:789] failed to allocate 3.23G (3468361728 bytes) from device: CUDA_ERROR_OUT_OF_MEMORY: out of memory\n",
      "2022-08-01 22:20:28.382649: I tensorflow/stream_executor/cuda/cuda_driver.cc:789] failed to allocate 3.23G (3468361728 bytes) from device: CUDA_ERROR_OUT_OF_MEMORY: out of memory\n",
      "2022-08-01 22:20:28.383800: I tensorflow/stream_executor/cuda/cuda_driver.cc:789] failed to allocate 3.23G (3468361728 bytes) from device: CUDA_ERROR_OUT_OF_MEMORY: out of memory\n",
      "2022-08-01 22:20:28.384134: I tensorflow/stream_executor/cuda/cuda_driver.cc:789] failed to allocate 3.23G (3468361728 bytes) from device: CUDA_ERROR_OUT_OF_MEMORY: out of memory\n",
      "2022-08-01 22:20:28.384463: I tensorflow/stream_executor/cuda/cuda_driver.cc:789] failed to allocate 3.23G (3468361728 bytes) from device: CUDA_ERROR_OUT_OF_MEMORY: out of memory\n"
     ]
    },
    {
     "name": "stderr",
     "output_type": "stream",
     "text": [
      "2022-08-01 22:21:22.675842: I tensorflow/stream_executor/cuda/cuda_driver.cc:789] failed to allocate 3.23G (3468361728 bytes) from device: CUDA_ERROR_OUT_OF_MEMORY: out of memory\n",
      "2022-08-01 22:21:22.677009: I tensorflow/stream_executor/cuda/cuda_driver.cc:789] failed to allocate 3.23G (3468361728 bytes) from device: CUDA_ERROR_OUT_OF_MEMORY: out of memory\n",
      "2022-08-01 22:21:22.677339: I tensorflow/stream_executor/cuda/cuda_driver.cc:789] failed to allocate 3.23G (3468361728 bytes) from device: CUDA_ERROR_OUT_OF_MEMORY: out of memory\n",
      "2022-08-01 22:21:22.677660: I tensorflow/stream_executor/cuda/cuda_driver.cc:789] failed to allocate 3.23G (3468361728 bytes) from device: CUDA_ERROR_OUT_OF_MEMORY: out of memory\n",
      "2022-08-01 22:21:22.678629: I tensorflow/stream_executor/cuda/cuda_driver.cc:789] failed to allocate 3.23G (3468361728 bytes) from device: CUDA_ERROR_OUT_OF_MEMORY: out of memory\n",
      "2022-08-01 22:21:22.679853: I tensorflow/stream_executor/cuda/cuda_driver.cc:789] failed to allocate 3.23G (3468361728 bytes) from device: CUDA_ERROR_OUT_OF_MEMORY: out of memory\n",
      "2022-08-01 22:21:22.680176: I tensorflow/stream_executor/cuda/cuda_driver.cc:789] failed to allocate 3.23G (3468361728 bytes) from device: CUDA_ERROR_OUT_OF_MEMORY: out of memory\n",
      "2022-08-01 22:21:22.680493: I tensorflow/stream_executor/cuda/cuda_driver.cc:789] failed to allocate 3.23G (3468361728 bytes) from device: CUDA_ERROR_OUT_OF_MEMORY: out of memory\n",
      "2022-08-01 22:21:22.681407: I tensorflow/stream_executor/cuda/cuda_driver.cc:789] failed to allocate 3.23G (3468361728 bytes) from device: CUDA_ERROR_OUT_OF_MEMORY: out of memory\n",
      "2022-08-01 22:21:22.682524: I tensorflow/stream_executor/cuda/cuda_driver.cc:789] failed to allocate 3.23G (3468361728 bytes) from device: CUDA_ERROR_OUT_OF_MEMORY: out of memory\n",
      "2022-08-01 22:21:22.682888: I tensorflow/stream_executor/cuda/cuda_driver.cc:789] failed to allocate 3.23G (3468361728 bytes) from device: CUDA_ERROR_OUT_OF_MEMORY: out of memory\n",
      "2022-08-01 22:21:22.683206: I tensorflow/stream_executor/cuda/cuda_driver.cc:789] failed to allocate 3.23G (3468361728 bytes) from device: CUDA_ERROR_OUT_OF_MEMORY: out of memory\n",
      "2022-08-01 22:22:14.810708: I tensorflow/stream_executor/cuda/cuda_driver.cc:789] failed to allocate 3.23G (3468361728 bytes) from device: CUDA_ERROR_OUT_OF_MEMORY: out of memory\n",
      "2022-08-01 22:22:14.811873: I tensorflow/stream_executor/cuda/cuda_driver.cc:789] failed to allocate 3.23G (3468361728 bytes) from device: CUDA_ERROR_OUT_OF_MEMORY: out of memory\n",
      "2022-08-01 22:22:14.812202: I tensorflow/stream_executor/cuda/cuda_driver.cc:789] failed to allocate 3.23G (3468361728 bytes) from device: CUDA_ERROR_OUT_OF_MEMORY: out of memory\n",
      "2022-08-01 22:22:14.812524: I tensorflow/stream_executor/cuda/cuda_driver.cc:789] failed to allocate 3.23G (3468361728 bytes) from device: CUDA_ERROR_OUT_OF_MEMORY: out of memory\n",
      "2022-08-01 22:22:14.813494: I tensorflow/stream_executor/cuda/cuda_driver.cc:789] failed to allocate 3.23G (3468361728 bytes) from device: CUDA_ERROR_OUT_OF_MEMORY: out of memory\n",
      "2022-08-01 22:22:14.814608: I tensorflow/stream_executor/cuda/cuda_driver.cc:789] failed to allocate 3.23G (3468361728 bytes) from device: CUDA_ERROR_OUT_OF_MEMORY: out of memory\n",
      "2022-08-01 22:22:14.814940: I tensorflow/stream_executor/cuda/cuda_driver.cc:789] failed to allocate 3.23G (3468361728 bytes) from device: CUDA_ERROR_OUT_OF_MEMORY: out of memory\n",
      "2022-08-01 22:22:14.815259: I tensorflow/stream_executor/cuda/cuda_driver.cc:789] failed to allocate 3.23G (3468361728 bytes) from device: CUDA_ERROR_OUT_OF_MEMORY: out of memory\n",
      "2022-08-01 22:22:14.816170: I tensorflow/stream_executor/cuda/cuda_driver.cc:789] failed to allocate 3.23G (3468361728 bytes) from device: CUDA_ERROR_OUT_OF_MEMORY: out of memory\n",
      "2022-08-01 22:22:14.817286: I tensorflow/stream_executor/cuda/cuda_driver.cc:789] failed to allocate 3.23G (3468361728 bytes) from device: CUDA_ERROR_OUT_OF_MEMORY: out of memory\n",
      "2022-08-01 22:22:14.817681: I tensorflow/stream_executor/cuda/cuda_driver.cc:789] failed to allocate 3.23G (3468361728 bytes) from device: CUDA_ERROR_OUT_OF_MEMORY: out of memory\n",
      "2022-08-01 22:22:14.818003: I tensorflow/stream_executor/cuda/cuda_driver.cc:789] failed to allocate 3.23G (3468361728 bytes) from device: CUDA_ERROR_OUT_OF_MEMORY: out of memory\n",
      "2022-08-01 22:23:25.732802: I tensorflow/stream_executor/cuda/cuda_driver.cc:789] failed to allocate 3.23G (3468361728 bytes) from device: CUDA_ERROR_OUT_OF_MEMORY: out of memory\n",
      "2022-08-01 22:23:25.734004: I tensorflow/stream_executor/cuda/cuda_driver.cc:789] failed to allocate 3.23G (3468361728 bytes) from device: CUDA_ERROR_OUT_OF_MEMORY: out of memory\n",
      "2022-08-01 22:23:25.734353: I tensorflow/stream_executor/cuda/cuda_driver.cc:789] failed to allocate 3.23G (3468361728 bytes) from device: CUDA_ERROR_OUT_OF_MEMORY: out of memory\n",
      "2022-08-01 22:23:25.734691: I tensorflow/stream_executor/cuda/cuda_driver.cc:789] failed to allocate 3.23G (3468361728 bytes) from device: CUDA_ERROR_OUT_OF_MEMORY: out of memory\n",
      "2022-08-01 22:23:25.735705: I tensorflow/stream_executor/cuda/cuda_driver.cc:789] failed to allocate 3.23G (3468361728 bytes) from device: CUDA_ERROR_OUT_OF_MEMORY: out of memory\n",
      "2022-08-01 22:23:25.736841: I tensorflow/stream_executor/cuda/cuda_driver.cc:789] failed to allocate 3.23G (3468361728 bytes) from device: CUDA_ERROR_OUT_OF_MEMORY: out of memory\n",
      "2022-08-01 22:23:25.737182: I tensorflow/stream_executor/cuda/cuda_driver.cc:789] failed to allocate 3.23G (3468361728 bytes) from device: CUDA_ERROR_OUT_OF_MEMORY: out of memory\n",
      "2022-08-01 22:23:25.737532: I tensorflow/stream_executor/cuda/cuda_driver.cc:789] failed to allocate 3.23G (3468361728 bytes) from device: CUDA_ERROR_OUT_OF_MEMORY: out of memory\n",
      "2022-08-01 22:23:25.738509: I tensorflow/stream_executor/cuda/cuda_driver.cc:789] failed to allocate 3.23G (3468361728 bytes) from device: CUDA_ERROR_OUT_OF_MEMORY: out of memory\n",
      "2022-08-01 22:23:25.739974: I tensorflow/stream_executor/cuda/cuda_driver.cc:789] failed to allocate 3.23G (3468361728 bytes) from device: CUDA_ERROR_OUT_OF_MEMORY: out of memory\n",
      "2022-08-01 22:23:25.740323: I tensorflow/stream_executor/cuda/cuda_driver.cc:789] failed to allocate 3.23G (3468361728 bytes) from device: CUDA_ERROR_OUT_OF_MEMORY: out of memory\n",
      "2022-08-01 22:23:25.740660: I tensorflow/stream_executor/cuda/cuda_driver.cc:789] failed to allocate 3.23G (3468361728 bytes) from device: CUDA_ERROR_OUT_OF_MEMORY: out of memory\n"
     ]
    }
   ],
   "source": [
    "dict_ = [ {\n",
    "    'twitter_id':arr['twitter_id'],\n",
    "    'created_at_tz':arr['created_at_tz'],\n",
    "    'candidato':arr['candidato'],\n",
    "    'features':arr['text'], \n",
    "    'features':arr['text_clean'], \n",
    "    'sentiment_tax': float(Dcnn(np.array([tokenizer.encode(arr['text_clean'])]), training=False).numpy()[0][0]),\n",
    "    'sentiment': 1 if float(Dcnn(np.array([tokenizer.encode(arr['text_clean'])]), training=False).numpy()[0][0])>0.5 else 0\n",
    "  } for arr in features_]"
   ]
  },
  {
   "cell_type": "code",
   "execution_count": 131,
   "metadata": {},
   "outputs": [],
   "source": [
    "df = spark.createDataFrame(dict_)"
   ]
  },
  {
   "cell_type": "code",
   "execution_count": 132,
   "metadata": {},
   "outputs": [
    {
     "name": "stdout",
     "output_type": "stream",
     "text": [
      "+---------+-----+\n",
      "|sentiment|count|\n",
      "+---------+-----+\n",
      "|        0|34619|\n",
      "|        1|55346|\n",
      "+---------+-----+\n",
      "\n"
     ]
    },
    {
     "name": "stderr",
     "output_type": "stream",
     "text": [
      "22/08/01 22:25:17 WARN TaskSetManager: Stage 95 contains a task of very large size (1068 KiB). The maximum recommended task size is 1000 KiB.\n"
     ]
    }
   ],
   "source": [
    "df.groupby('sentiment').count().show()"
   ]
  },
  {
   "cell_type": "code",
   "execution_count": 133,
   "metadata": {},
   "outputs": [
    {
     "name": "stdout",
     "output_type": "stream",
     "text": [
      "+----------+-------------+--------------------+---------+--------------------+-------------------+\n",
      "| candidato|created_at_tz|            features|sentiment|       sentiment_tax|         twitter_id|\n",
      "+----------+-------------+--------------------+---------+--------------------+-------------------+\n",
      "| bolsonaro|   2022-03-15|a gasolina barata...|        0|1.850462467700708...|1503700925155876879|\n",
      "|      lula|   2022-03-21|a profissao hones...|        1|  0.9977805018424988|1505862799431450629|\n",
      "|      lula|   2022-03-24|aah moro ta fraco...|        0|0.019357958808541298|1507055408665530375|\n",
      "| bolsonaro|   2022-03-25|abafa som bota or...|        1|  0.9957442879676819|1507381789802831896|\n",
      "|      lula|   2022-03-16|aberracao ministr...|        0| 0.00376646569930017|1504202066369077248|\n",
      "| bolsonaro|   2022-03-18|aborrece sempre a...|        0|0.021376054733991623|1504974409907544067|\n",
      "|      lula|   2022-03-15|abram materia pra...|        1|   0.982147216796875|1503749776977842180|\n",
      "|      lula|   2022-03-21|abriu mao disputa...|        0|9.356964728794992E-4|1505980437713272832|\n",
      "| bolsonaro|   2022-03-24|abro aspas fecho ...|        0|3.361832932569086...|1507036463506075653|\n",
      "|      lula|   2022-03-22|absolveu lula ain...|        0| 0.05760342627763748|1506317545812467721|\n",
      "| bolsonaro|   2022-03-22|absurdo autoridad...|        0|6.153184222057462E-5|1506396492042575874|\n",
      "| bolsonaro|   2022-03-18|absurdo bolsonaro...|        0|0.006662338506430...|1504956937380765704|\n",
      "| bolsonaro|   2022-03-18|absurdo brasil bo...|        0|2.999262505021249...|1504860101982707718|\n",
      "|ciro gomes|   2022-03-18|absurdo deputado ...|        1|  0.6722124218940735|1504800672960688136|\n",
      "| bolsonaro|   2022-03-22|absurdo enquanto ...|        0|2.327130630419560...|1506338727576182786|\n",
      "| bolsonaro|   2022-03-15|absurdo politica ...|        0|3.902612661477178...|1503688483960934402|\n",
      "| bolsonaro|   2022-03-14|acabei assistir c...|        1|  0.9988722205162048|1503423455546466315|\n",
      "|ciro gomes|   2022-03-16|acabei crer ciro ...|        0| 0.03928757458925247|1504205563609194507|\n",
      "| bolsonaro|   2022-03-22|acabei ler premio...|        0| 0.07883480191230774|1506304704543969283|\n",
      "|      lula|   2022-03-24|acabei ler tanto ...|        0| 0.09160067141056061|1507013339997638657|\n",
      "+----------+-------------+--------------------+---------+--------------------+-------------------+\n",
      "only showing top 20 rows\n",
      "\n"
     ]
    }
   ],
   "source": [
    "df.show()"
   ]
  },
  {
   "cell_type": "code",
   "execution_count": 134,
   "metadata": {},
   "outputs": [
    {
     "name": "stderr",
     "output_type": "stream",
     "text": [
      "22/08/01 22:25:30 WARN TaskSetManager: Stage 99 contains a task of very large size (1068 KiB). The maximum recommended task size is 1000 KiB.\n"
     ]
    }
   ],
   "source": [
    "# save data\n",
    "(df\n",
    " .write\n",
    " .option('mergeSchema', 'true')\n",
    " .option('overwriteSchema', 'true')\n",
    " .save(\"/home/daholive/Documents/twitter_ellection_brazil_v2/datasource/refined/tweets_redes_neurais_convolucionais\", mode='overwrite')) "
   ]
  },
  {
   "cell_type": "code",
   "execution_count": null,
   "metadata": {},
   "outputs": [],
   "source": []
  }
 ],
 "metadata": {
  "interpreter": {
   "hash": "60c0eae9c48b613b38283907a3e5249fb461fae5c3397c9b6eb4a8c20420e31a"
  },
  "kernelspec": {
   "display_name": "Python 3 (ipykernel)",
   "language": "python",
   "name": "python3"
  },
  "language_info": {
   "codemirror_mode": {
    "name": "ipython",
    "version": 3
   },
   "file_extension": ".py",
   "mimetype": "text/x-python",
   "name": "python",
   "nbconvert_exporter": "python",
   "pygments_lexer": "ipython3",
   "version": "3.8.13"
  }
 },
 "nbformat": 4,
 "nbformat_minor": 2
}
